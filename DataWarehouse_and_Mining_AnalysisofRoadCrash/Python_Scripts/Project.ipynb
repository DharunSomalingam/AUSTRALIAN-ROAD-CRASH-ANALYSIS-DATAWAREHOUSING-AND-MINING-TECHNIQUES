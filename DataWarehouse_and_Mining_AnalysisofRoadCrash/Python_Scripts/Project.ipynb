{
 "cells": [
  {
   "cell_type": "markdown",
   "id": "ec117a9d-9c68-4eef-8f2d-8319d874a90d",
   "metadata": {},
   "source": [
    "### Data Extraction"
   ]
  },
  {
   "cell_type": "code",
   "execution_count": 3,
   "id": "98005baf-6a97-42c0-aef6-2b361c0fb52e",
   "metadata": {},
   "outputs": [],
   "source": [
    "# Import required libraries\n",
    "import pandas as pd\n",
    "import os"
   ]
  },
  {
   "cell_type": "code",
   "execution_count": 4,
   "id": "5eb20cba-ea24-4bf4-a1e3-d757cc45ac96",
   "metadata": {},
   "outputs": [
    {
     "name": "stdout",
     "output_type": "stream",
     "text": [
      "/Users/dharunsomalingam/Documents/Semester_5/CITS3401/Project\n"
     ]
    }
   ],
   "source": [
    "print(os.getcwd())"
   ]
  },
  {
   "cell_type": "code",
   "execution_count": 5,
   "id": "7582e6d3-da4e-4164-a7e0-eaf5be60d42e",
   "metadata": {},
   "outputs": [
    {
     "data": {
      "text/html": [
       "<div>\n",
       "<style scoped>\n",
       "    .dataframe tbody tr th:only-of-type {\n",
       "        vertical-align: middle;\n",
       "    }\n",
       "\n",
       "    .dataframe tbody tr th {\n",
       "        vertical-align: top;\n",
       "    }\n",
       "\n",
       "    .dataframe thead th {\n",
       "        text-align: right;\n",
       "    }\n",
       "</style>\n",
       "<table border=\"1\" class=\"dataframe\">\n",
       "  <thead>\n",
       "    <tr style=\"text-align: right;\">\n",
       "      <th></th>\n",
       "      <th>Crash ID</th>\n",
       "      <th>State</th>\n",
       "      <th>Month</th>\n",
       "      <th>Year</th>\n",
       "      <th>Dayweek</th>\n",
       "      <th>Time</th>\n",
       "      <th>Crash Type</th>\n",
       "      <th>Number Fatalities</th>\n",
       "      <th>Bus \\nInvolvement</th>\n",
       "      <th>Heavy Rigid Truck Involvement</th>\n",
       "      <th>Articulated Truck Involvement</th>\n",
       "      <th>Speed Limit</th>\n",
       "      <th>National Remoteness Areas</th>\n",
       "      <th>SA4 Name 2021</th>\n",
       "      <th>National LGA Name 2021</th>\n",
       "      <th>National Road Type</th>\n",
       "      <th>Christmas Period</th>\n",
       "      <th>Easter Period</th>\n",
       "      <th>Day of week</th>\n",
       "      <th>Time of Day</th>\n",
       "    </tr>\n",
       "  </thead>\n",
       "  <tbody>\n",
       "    <tr>\n",
       "      <th>1</th>\n",
       "      <td>20241115</td>\n",
       "      <td>NSW</td>\n",
       "      <td>12</td>\n",
       "      <td>2024</td>\n",
       "      <td>Friday</td>\n",
       "      <td>04:00:00</td>\n",
       "      <td>Single</td>\n",
       "      <td>1</td>\n",
       "      <td>No</td>\n",
       "      <td>No</td>\n",
       "      <td>No</td>\n",
       "      <td>100</td>\n",
       "      <td>Inner Regional Australia</td>\n",
       "      <td>Riverina</td>\n",
       "      <td>Wagga Wagga</td>\n",
       "      <td>Arterial Road</td>\n",
       "      <td>Yes</td>\n",
       "      <td>No</td>\n",
       "      <td>Weekday</td>\n",
       "      <td>Night</td>\n",
       "    </tr>\n",
       "    <tr>\n",
       "      <th>2</th>\n",
       "      <td>20241125</td>\n",
       "      <td>NSW</td>\n",
       "      <td>12</td>\n",
       "      <td>2024</td>\n",
       "      <td>Friday</td>\n",
       "      <td>06:15:00</td>\n",
       "      <td>Single</td>\n",
       "      <td>1</td>\n",
       "      <td>No</td>\n",
       "      <td>No</td>\n",
       "      <td>No</td>\n",
       "      <td>80</td>\n",
       "      <td>Inner Regional Australia</td>\n",
       "      <td>Sydney - Baulkham Hills and Hawkesbury</td>\n",
       "      <td>Hawkesbury</td>\n",
       "      <td>Local Road</td>\n",
       "      <td>No</td>\n",
       "      <td>No</td>\n",
       "      <td>Weekday</td>\n",
       "      <td>Day</td>\n",
       "    </tr>\n",
       "    <tr>\n",
       "      <th>3</th>\n",
       "      <td>20246013</td>\n",
       "      <td>Tas</td>\n",
       "      <td>12</td>\n",
       "      <td>2024</td>\n",
       "      <td>Friday</td>\n",
       "      <td>09:43:00</td>\n",
       "      <td>Multiple</td>\n",
       "      <td>1</td>\n",
       "      <td>No</td>\n",
       "      <td>No</td>\n",
       "      <td>No</td>\n",
       "      <td>50</td>\n",
       "      <td>Inner Regional Australia</td>\n",
       "      <td>Launceston and North East</td>\n",
       "      <td>Northern Midlands</td>\n",
       "      <td>Local Road</td>\n",
       "      <td>Yes</td>\n",
       "      <td>No</td>\n",
       "      <td>Weekday</td>\n",
       "      <td>Day</td>\n",
       "    </tr>\n",
       "    <tr>\n",
       "      <th>4</th>\n",
       "      <td>20241002</td>\n",
       "      <td>NSW</td>\n",
       "      <td>12</td>\n",
       "      <td>2024</td>\n",
       "      <td>Friday</td>\n",
       "      <td>10:35:00</td>\n",
       "      <td>Multiple</td>\n",
       "      <td>1</td>\n",
       "      <td>No</td>\n",
       "      <td>No</td>\n",
       "      <td>No</td>\n",
       "      <td>100</td>\n",
       "      <td>Outer Regional Australia</td>\n",
       "      <td>New England and North West</td>\n",
       "      <td>Armidale Regional</td>\n",
       "      <td>National or State Highway</td>\n",
       "      <td>No</td>\n",
       "      <td>No</td>\n",
       "      <td>Weekday</td>\n",
       "      <td>Day</td>\n",
       "    </tr>\n",
       "    <tr>\n",
       "      <th>5</th>\n",
       "      <td>20242261</td>\n",
       "      <td>Vic</td>\n",
       "      <td>12</td>\n",
       "      <td>2024</td>\n",
       "      <td>Friday</td>\n",
       "      <td>11:30:00</td>\n",
       "      <td>Multiple</td>\n",
       "      <td>1</td>\n",
       "      <td>-9</td>\n",
       "      <td>-9</td>\n",
       "      <td>-9</td>\n",
       "      <td>-9</td>\n",
       "      <td>Unknown</td>\n",
       "      <td>NaN</td>\n",
       "      <td>NaN</td>\n",
       "      <td>Undetermined</td>\n",
       "      <td>No</td>\n",
       "      <td>No</td>\n",
       "      <td>Weekday</td>\n",
       "      <td>Day</td>\n",
       "    </tr>\n",
       "  </tbody>\n",
       "</table>\n",
       "</div>"
      ],
      "text/plain": [
       "0  Crash ID State Month  Year Dayweek      Time Crash Type Number Fatalities  \\\n",
       "1  20241115   NSW    12  2024  Friday  04:00:00     Single                 1   \n",
       "2  20241125   NSW    12  2024  Friday  06:15:00     Single                 1   \n",
       "3  20246013   Tas    12  2024  Friday  09:43:00   Multiple                 1   \n",
       "4  20241002   NSW    12  2024  Friday  10:35:00   Multiple                 1   \n",
       "5  20242261   Vic    12  2024  Friday  11:30:00   Multiple                 1   \n",
       "\n",
       "0 Bus \\nInvolvement Heavy Rigid Truck Involvement  \\\n",
       "1                No                            No   \n",
       "2                No                            No   \n",
       "3                No                            No   \n",
       "4                No                            No   \n",
       "5                -9                            -9   \n",
       "\n",
       "0 Articulated Truck Involvement Speed Limit National Remoteness Areas  \\\n",
       "1                            No         100  Inner Regional Australia   \n",
       "2                            No          80  Inner Regional Australia   \n",
       "3                            No          50  Inner Regional Australia   \n",
       "4                            No         100  Outer Regional Australia   \n",
       "5                            -9          -9                   Unknown   \n",
       "\n",
       "0                           SA4 Name 2021 National LGA Name 2021  \\\n",
       "1                                Riverina            Wagga Wagga   \n",
       "2  Sydney - Baulkham Hills and Hawkesbury             Hawkesbury   \n",
       "3               Launceston and North East      Northern Midlands   \n",
       "4              New England and North West      Armidale Regional   \n",
       "5                                     NaN                    NaN   \n",
       "\n",
       "0         National Road Type Christmas Period Easter Period Day of week  \\\n",
       "1              Arterial Road              Yes            No     Weekday   \n",
       "2                 Local Road               No            No     Weekday   \n",
       "3                 Local Road              Yes            No     Weekday   \n",
       "4  National or State Highway               No            No     Weekday   \n",
       "5               Undetermined               No            No     Weekday   \n",
       "\n",
       "0 Time of Day  \n",
       "1       Night  \n",
       "2         Day  \n",
       "3         Day  \n",
       "4         Day  \n",
       "5         Day  "
      ]
     },
     "execution_count": 5,
     "metadata": {},
     "output_type": "execute_result"
    }
   ],
   "source": [
    "# Load the Excel file and read the second sheet (index 1) named \"BITRE_Fatal_Crash\"\n",
    "# Skip the first 3 rows, assuming they contain metadata or irrelevant information\n",
    "data_fatal = pd.read_excel(\"bitre_fatal_crashes_dec2024.xlsx\", sheet_name=\"BITRE_Fatal_Crash\", skiprows=3)\n",
    "\n",
    "# Set the first row as the header by assigning it as column names\n",
    "data_fatal.columns = data_fatal.iloc[0]  # Take the first row as column names\n",
    "\n",
    "# Remove the first row from the dataset since it is now used as headers\n",
    "data_fatal = data_fatal[1:]\n",
    "\n",
    "# Display the first few rows of the cleaned dataset\n",
    "data_fatal.head()"
   ]
  },
  {
   "cell_type": "code",
   "execution_count": 6,
   "id": "9c20a800-0e68-499f-a1ad-629229af04af",
   "metadata": {},
   "outputs": [
    {
     "data": {
      "text/html": [
       "<div>\n",
       "<style scoped>\n",
       "    .dataframe tbody tr th:only-of-type {\n",
       "        vertical-align: middle;\n",
       "    }\n",
       "\n",
       "    .dataframe tbody tr th {\n",
       "        vertical-align: top;\n",
       "    }\n",
       "\n",
       "    .dataframe thead th {\n",
       "        text-align: right;\n",
       "    }\n",
       "</style>\n",
       "<table border=\"1\" class=\"dataframe\">\n",
       "  <thead>\n",
       "    <tr style=\"text-align: right;\">\n",
       "      <th></th>\n",
       "      <th>Crash ID</th>\n",
       "      <th>State</th>\n",
       "      <th>Month</th>\n",
       "      <th>Year</th>\n",
       "      <th>Dayweek</th>\n",
       "      <th>Time</th>\n",
       "      <th>Crash Type</th>\n",
       "      <th>Bus Involvement</th>\n",
       "      <th>Heavy Rigid Truck Involvement</th>\n",
       "      <th>Articulated Truck Involvement</th>\n",
       "      <th>...</th>\n",
       "      <th>Age</th>\n",
       "      <th>National Remoteness Areas</th>\n",
       "      <th>SA4 Name 2021</th>\n",
       "      <th>National LGA Name 2021</th>\n",
       "      <th>National Road Type</th>\n",
       "      <th>Christmas Period</th>\n",
       "      <th>Easter Period</th>\n",
       "      <th>Age Group</th>\n",
       "      <th>Day of week</th>\n",
       "      <th>Time of day</th>\n",
       "    </tr>\n",
       "  </thead>\n",
       "  <tbody>\n",
       "    <tr>\n",
       "      <th>1</th>\n",
       "      <td>20241115</td>\n",
       "      <td>NSW</td>\n",
       "      <td>12</td>\n",
       "      <td>2024</td>\n",
       "      <td>Friday</td>\n",
       "      <td>04:00:00</td>\n",
       "      <td>Single</td>\n",
       "      <td>No</td>\n",
       "      <td>No</td>\n",
       "      <td>No</td>\n",
       "      <td>...</td>\n",
       "      <td>74</td>\n",
       "      <td>Inner Regional Australia</td>\n",
       "      <td>Riverina</td>\n",
       "      <td>Wagga Wagga</td>\n",
       "      <td>Arterial Road</td>\n",
       "      <td>Yes</td>\n",
       "      <td>No</td>\n",
       "      <td>65_to_74</td>\n",
       "      <td>Weekday</td>\n",
       "      <td>Night</td>\n",
       "    </tr>\n",
       "    <tr>\n",
       "      <th>2</th>\n",
       "      <td>20241125</td>\n",
       "      <td>NSW</td>\n",
       "      <td>12</td>\n",
       "      <td>2024</td>\n",
       "      <td>Friday</td>\n",
       "      <td>06:15:00</td>\n",
       "      <td>Single</td>\n",
       "      <td>No</td>\n",
       "      <td>No</td>\n",
       "      <td>No</td>\n",
       "      <td>...</td>\n",
       "      <td>19</td>\n",
       "      <td>Inner Regional Australia</td>\n",
       "      <td>Sydney - Baulkham Hills and Hawkesbury</td>\n",
       "      <td>Hawkesbury</td>\n",
       "      <td>Local Road</td>\n",
       "      <td>No</td>\n",
       "      <td>No</td>\n",
       "      <td>17_to_25</td>\n",
       "      <td>Weekday</td>\n",
       "      <td>Day</td>\n",
       "    </tr>\n",
       "    <tr>\n",
       "      <th>3</th>\n",
       "      <td>20246013</td>\n",
       "      <td>Tas</td>\n",
       "      <td>12</td>\n",
       "      <td>2024</td>\n",
       "      <td>Friday</td>\n",
       "      <td>09:43:00</td>\n",
       "      <td>Multiple</td>\n",
       "      <td>No</td>\n",
       "      <td>No</td>\n",
       "      <td>No</td>\n",
       "      <td>...</td>\n",
       "      <td>33</td>\n",
       "      <td>Inner Regional Australia</td>\n",
       "      <td>Launceston and North East</td>\n",
       "      <td>Northern Midlands</td>\n",
       "      <td>Local Road</td>\n",
       "      <td>Yes</td>\n",
       "      <td>No</td>\n",
       "      <td>26_to_39</td>\n",
       "      <td>Weekday</td>\n",
       "      <td>Day</td>\n",
       "    </tr>\n",
       "    <tr>\n",
       "      <th>4</th>\n",
       "      <td>20241002</td>\n",
       "      <td>NSW</td>\n",
       "      <td>12</td>\n",
       "      <td>2024</td>\n",
       "      <td>Friday</td>\n",
       "      <td>10:35:00</td>\n",
       "      <td>Multiple</td>\n",
       "      <td>No</td>\n",
       "      <td>No</td>\n",
       "      <td>No</td>\n",
       "      <td>...</td>\n",
       "      <td>32</td>\n",
       "      <td>Outer Regional Australia</td>\n",
       "      <td>New England and North West</td>\n",
       "      <td>Armidale Regional</td>\n",
       "      <td>National or State Highway</td>\n",
       "      <td>No</td>\n",
       "      <td>No</td>\n",
       "      <td>26_to_39</td>\n",
       "      <td>Weekday</td>\n",
       "      <td>Day</td>\n",
       "    </tr>\n",
       "    <tr>\n",
       "      <th>5</th>\n",
       "      <td>20242261</td>\n",
       "      <td>Vic</td>\n",
       "      <td>12</td>\n",
       "      <td>2024</td>\n",
       "      <td>Friday</td>\n",
       "      <td>11:30:00</td>\n",
       "      <td>Multiple</td>\n",
       "      <td>-9</td>\n",
       "      <td>-9</td>\n",
       "      <td>-9</td>\n",
       "      <td>...</td>\n",
       "      <td>62</td>\n",
       "      <td>Unknown</td>\n",
       "      <td>NaN</td>\n",
       "      <td>NaN</td>\n",
       "      <td>Undetermined</td>\n",
       "      <td>No</td>\n",
       "      <td>No</td>\n",
       "      <td>40_to_64</td>\n",
       "      <td>Weekday</td>\n",
       "      <td>Day</td>\n",
       "    </tr>\n",
       "  </tbody>\n",
       "</table>\n",
       "<p>5 rows × 23 columns</p>\n",
       "</div>"
      ],
      "text/plain": [
       "0  Crash ID State Month  Year Dayweek      Time Crash Type Bus Involvement  \\\n",
       "1  20241115   NSW    12  2024  Friday  04:00:00     Single              No   \n",
       "2  20241125   NSW    12  2024  Friday  06:15:00     Single              No   \n",
       "3  20246013   Tas    12  2024  Friday  09:43:00   Multiple              No   \n",
       "4  20241002   NSW    12  2024  Friday  10:35:00   Multiple              No   \n",
       "5  20242261   Vic    12  2024  Friday  11:30:00   Multiple              -9   \n",
       "\n",
       "0 Heavy Rigid Truck Involvement Articulated Truck Involvement  ... Age  \\\n",
       "1                            No                            No  ...  74   \n",
       "2                            No                            No  ...  19   \n",
       "3                            No                            No  ...  33   \n",
       "4                            No                            No  ...  32   \n",
       "5                            -9                            -9  ...  62   \n",
       "\n",
       "0 National Remoteness Areas                           SA4 Name 2021  \\\n",
       "1  Inner Regional Australia                                Riverina   \n",
       "2  Inner Regional Australia  Sydney - Baulkham Hills and Hawkesbury   \n",
       "3  Inner Regional Australia               Launceston and North East   \n",
       "4  Outer Regional Australia              New England and North West   \n",
       "5                   Unknown                                     NaN   \n",
       "\n",
       "0 National LGA Name 2021         National Road Type Christmas Period  \\\n",
       "1            Wagga Wagga              Arterial Road              Yes   \n",
       "2             Hawkesbury                 Local Road               No   \n",
       "3      Northern Midlands                 Local Road              Yes   \n",
       "4      Armidale Regional  National or State Highway               No   \n",
       "5                    NaN               Undetermined               No   \n",
       "\n",
       "0 Easter Period Age Group Day of week Time of day  \n",
       "1            No  65_to_74     Weekday       Night  \n",
       "2            No  17_to_25     Weekday         Day  \n",
       "3            No  26_to_39     Weekday         Day  \n",
       "4            No  26_to_39     Weekday         Day  \n",
       "5            No  40_to_64     Weekday         Day  \n",
       "\n",
       "[5 rows x 23 columns]"
      ]
     },
     "execution_count": 6,
     "metadata": {},
     "output_type": "execute_result"
    }
   ],
   "source": [
    "# Read the second sheet (\"BITRE_Fatality\") from the Excel file, skipping the first 3 rows\n",
    "# This removes any metadata or unnecessary information at the top\n",
    "data_fatalities = pd.read_excel(\"bitre_fatalities_dec2024.xlsx\", sheet_name=\"BITRE_Fatality\", skiprows=3)\n",
    "\n",
    "# Assign the first row as column names to properly structure the dataset\n",
    "data_fatalities.columns = data_fatalities.iloc[0]  \n",
    "\n",
    "# Remove the first row from the dataset as it has been set as the header\n",
    "data_fatalities = data_fatalities[1:]\n",
    "\n",
    "# Display the first few rows of the cleaned dataset for verification\n",
    "data_fatalities.head()"
   ]
  },
  {
   "cell_type": "code",
   "execution_count": 7,
   "id": "f7177c86-41a4-4875-b8e6-275937f8ea73",
   "metadata": {},
   "outputs": [
    {
     "data": {
      "text/plain": [
       "Index(['Crash ID', 'State', 'Month', 'Year', 'Dayweek', 'Time', 'Crash Type',\n",
       "       'Number Fatalities', 'Bus \\nInvolvement',\n",
       "       'Heavy Rigid Truck Involvement', 'Articulated Truck Involvement',\n",
       "       'Speed Limit', 'National Remoteness Areas', 'SA4 Name 2021',\n",
       "       'National LGA Name 2021', 'National Road Type', 'Christmas Period',\n",
       "       'Easter Period', 'Day of week', 'Time of Day'],\n",
       "      dtype='object', name=0)"
      ]
     },
     "execution_count": 7,
     "metadata": {},
     "output_type": "execute_result"
    }
   ],
   "source": [
    "data_fatal.columns"
   ]
  },
  {
   "cell_type": "code",
   "execution_count": 8,
   "id": "fde4d054-d927-48ca-a679-b6970e304e22",
   "metadata": {},
   "outputs": [
    {
     "data": {
      "text/plain": [
       "Index(['Crash ID', 'State', 'Month', 'Year', 'Dayweek', 'Time', 'Crash Type',\n",
       "       'Bus Involvement', 'Heavy Rigid Truck Involvement',\n",
       "       'Articulated Truck Involvement', 'Speed Limit', 'Road User', 'Gender',\n",
       "       'Age', 'National Remoteness Areas', 'SA4 Name 2021',\n",
       "       'National LGA Name 2021', 'National Road Type', 'Christmas Period',\n",
       "       'Easter Period', 'Age Group', 'Day of week', 'Time of day'],\n",
       "      dtype='object', name=0)"
      ]
     },
     "execution_count": 8,
     "metadata": {},
     "output_type": "execute_result"
    }
   ],
   "source": [
    "data_fatalities.columns"
   ]
  },
  {
   "cell_type": "code",
   "execution_count": 9,
   "id": "1c9fb91d-2087-488c-b113-820f3d534427",
   "metadata": {},
   "outputs": [
    {
     "name": "stdout",
     "output_type": "stream",
     "text": [
      "Number of fatal crashes: 51284\n",
      "Number of fatalities: 56874\n"
     ]
    }
   ],
   "source": [
    "# Get the number of rows in the fatal crashes dataset\n",
    "fatal_crash_rows = data_fatal.shape[0]\n",
    "\n",
    "# Get the number of rows in the fatalities dataset\n",
    "fatality_rows = data_fatalities.shape[0]\n",
    "\n",
    "# Print the results\n",
    "print(f\"Number of fatal crashes: {fatal_crash_rows}\")\n",
    "print(f\"Number of fatalities: {fatality_rows}\")\n"
   ]
  },
  {
   "cell_type": "code",
   "execution_count": 10,
   "id": "1917c700-3765-40e1-b31e-4be40db54b46",
   "metadata": {},
   "outputs": [
    {
     "name": "stdout",
     "output_type": "stream",
     "text": [
      "0\n",
      "166\n"
     ]
    }
   ],
   "source": [
    "# Count the number of duplicate rows in the 'data_fatal' DataFrame\n",
    "fatal_crash_duplicate = data_fatal.duplicated().sum()  # This counts all duplicate rows in data_fatal\n",
    "\n",
    "# Count the number of duplicate rows in the 'data_fatalities' DataFrame\n",
    "fatality_duplicate = data_fatalities.duplicated().sum()  # This counts all duplicate rows in data_fatalities\n",
    "\n",
    "# Print the number of duplicate rows for both DataFrames\n",
    "print(fatal_crash_duplicate)  # Prints the count of duplicate rows in data_fatal\n",
    "print(fatality_duplicate)     # Prints the count of duplicate rows in data_fatalities\n"
   ]
  },
  {
   "cell_type": "code",
   "execution_count": 11,
   "id": "fc819abc-18ec-47a1-8426-b64756147ef3",
   "metadata": {},
   "outputs": [],
   "source": [
    "# Remove duplicate rows from the 'data_fatal' DataFrame to ensure unique records\n",
    "data_fatal = data_fatal.drop_duplicates()\n",
    "\n",
    "# Remove duplicate rows from the 'data_fatalities' DataFrame to avoid redundancy\n",
    "data_fatalities = data_fatalities.drop_duplicates()\n"
   ]
  },
  {
   "cell_type": "code",
   "execution_count": 12,
   "id": "4894e6a2-c22e-4775-8175-84678628dd09",
   "metadata": {},
   "outputs": [
    {
     "data": {
      "text/plain": [
       "Index(['Crash ID', 'State', 'Month', 'Year', 'Dayweek', 'Time', 'Crash Type',\n",
       "       'Number Fatalities', 'Bus \\nInvolvement',\n",
       "       'Heavy Rigid Truck Involvement', 'Articulated Truck Involvement',\n",
       "       'Speed Limit', 'National Remoteness Areas', 'SA4 Name 2021',\n",
       "       'National LGA Name 2021', 'National Road Type', 'Christmas Period',\n",
       "       'Easter Period', 'Day of week', 'Time of Day'],\n",
       "      dtype='object', name=0)"
      ]
     },
     "execution_count": 12,
     "metadata": {},
     "output_type": "execute_result"
    }
   ],
   "source": [
    "data_fatal.columns"
   ]
  },
  {
   "cell_type": "code",
   "execution_count": 13,
   "id": "5d54a73a-562a-402b-8456-44889c0e5a17",
   "metadata": {},
   "outputs": [
    {
     "name": "stdout",
     "output_type": "stream",
     "text": [
      "0  Crash ID State_x Month_x Year_x Dayweek_x    Time_x Crash Type_x  \\\n",
      "0  20241115     NSW      12   2024    Friday  04:00:00       Single   \n",
      "1  20241125     NSW      12   2024    Friday  06:15:00       Single   \n",
      "2  20246013     Tas      12   2024    Friday  09:43:00     Multiple   \n",
      "3  20241002     NSW      12   2024    Friday  10:35:00     Multiple   \n",
      "4  20242261     Vic      12   2024    Friday  11:30:00     Multiple   \n",
      "\n",
      "0 Number Fatalities Bus \\nInvolvement Heavy Rigid Truck Involvement_x  ...  \\\n",
      "0                 1                No                              No  ...   \n",
      "1                 1                No                              No  ...   \n",
      "2                 1                No                              No  ...   \n",
      "3                 1                No                              No  ...   \n",
      "4                 1                -9                              -9  ...   \n",
      "\n",
      "0 Christmas Period_x Easter Period_x Day of week_x Time of Day Speed Limit_y  \\\n",
      "0                Yes              No       Weekday       Night           100   \n",
      "1                 No              No       Weekday         Day            80   \n",
      "2                Yes              No       Weekday         Day            50   \n",
      "3                 No              No       Weekday         Day           100   \n",
      "4                 No              No       Weekday         Day            -9   \n",
      "\n",
      "0  Road User  Gender Age       National Road Type_y Age Group  \n",
      "0     Driver    Male  74              Arterial Road  65_to_74  \n",
      "1     Driver  Female  19                 Local Road  17_to_25  \n",
      "2     Driver  Female  33                 Local Road  26_to_39  \n",
      "3     Driver  Female  32  National or State Highway  26_to_39  \n",
      "4  Passenger    Male  62               Undetermined  40_to_64  \n",
      "\n",
      "[5 rows x 26 columns]\n"
     ]
    }
   ],
   "source": [
    "# Merge the two DataFrames on 'Crash ID'\n",
    "merged_data = data_fatal.merge(data_fatalities, on=\"Crash ID\", how=\"inner\")\n",
    "\n",
    "# Identify and remove duplicate columns\n",
    "merged_data = merged_data.loc[:, ~merged_data.T.duplicated()]\n",
    "merged_data.columns = merged_data.columns.str.strip()\n",
    "\n",
    "# Display the cleaned merged DataFrame\n",
    "print(merged_data.head())\n",
    "# Save DataFrame to CSV file\n"
   ]
  },
  {
   "cell_type": "code",
   "execution_count": 14,
   "id": "19fac1f1-bf58-4a20-b404-94c1df588c6e",
   "metadata": {},
   "outputs": [
    {
     "name": "stdout",
     "output_type": "stream",
     "text": [
      "Index(['Crash ID', 'State', 'Month', 'Year', 'Dayweek', 'Time', 'Crash Type',\n",
      "       'Number Fatalities', 'Bus Involvement', 'Heavy Rigid Truck Involvement',\n",
      "       'Articulated Truck Involvement', 'Speed Limit',\n",
      "       'National Remoteness Areas', 'SA4 Name 2021', 'National LGA Name 2021',\n",
      "       'National Road Type', 'Christmas Period', 'Easter Period',\n",
      "       'Day of week', 'Time of Day', 'Speed Limit', 'Road User', 'Gender',\n",
      "       'Age', 'National Road Type', 'Age Group'],\n",
      "      dtype='object', name=0)\n"
     ]
    }
   ],
   "source": [
    "merged_data = merged_data.loc[:, ~merged_data.columns.duplicated()]\n",
    "# Iterate through each column name and modify it if it ends with '_x' or '_y'\n",
    "for i in range(len(merged_data.columns)):\n",
    "    if '_x' in merged_data.columns[i]:\n",
    "        merged_data.columns.values[i] = merged_data.columns[i].replace('_x', '')\n",
    "    elif '_y' in merged_data.columns[i]:\n",
    "        merged_data.columns.values[i] = merged_data.columns[i].replace('_y', '')\n",
    "    elif '\\n' in merged_data.columns[i]:\n",
    "        merged_data.columns.values[i] = merged_data.columns[i].replace('\\n', '')\n",
    "\n",
    "# Display updated column names\n",
    "print(merged_data.columns)\n"
   ]
  },
  {
   "cell_type": "code",
   "execution_count": 15,
   "id": "fcd575a3-4ecd-47c2-bae9-daf5f4e23d17",
   "metadata": {},
   "outputs": [],
   "source": [
    "merged_data = merged_data.loc[:, ~merged_data.columns.duplicated()]"
   ]
  },
  {
   "cell_type": "code",
   "execution_count": 16,
   "id": "f0b6a628-8573-40ce-b2bb-958cb0726392",
   "metadata": {},
   "outputs": [],
   "source": [
    "merged_data[\"State\"]=merged_data[\"State\"].str.upper()"
   ]
  },
  {
   "cell_type": "code",
   "execution_count": 17,
   "id": "7685358c-470d-425c-8f52-5a8843b3a666",
   "metadata": {},
   "outputs": [
    {
     "data": {
      "text/plain": [
       "Index(['Crash ID', 'State', 'Month', 'Year', 'Dayweek', 'Time', 'Crash Type',\n",
       "       'Number Fatalities', 'Bus Involvement', 'Heavy Rigid Truck Involvement',\n",
       "       'Articulated Truck Involvement', 'Speed Limit',\n",
       "       'National Remoteness Areas', 'SA4 Name 2021', 'National LGA Name 2021',\n",
       "       'National Road Type', 'Christmas Period', 'Easter Period',\n",
       "       'Day of week', 'Time of Day', 'Road User', 'Gender', 'Age',\n",
       "       'Age Group'],\n",
       "      dtype='object', name=0)"
      ]
     },
     "execution_count": 17,
     "metadata": {},
     "output_type": "execute_result"
    }
   ],
   "source": [
    "merged_data.columns"
   ]
  },
  {
   "cell_type": "code",
   "execution_count": 18,
   "id": "a259993c-dad1-41a9-b7cb-08e3769d22dd",
   "metadata": {},
   "outputs": [
    {
     "name": "stderr",
     "output_type": "stream",
     "text": [
      "/var/folders/2g/4mnq9vzj0c15w0sr74k2kcd00000gn/T/ipykernel_44687/427589794.py:4: FutureWarning: Downcasting behavior in `replace` is deprecated and will be removed in a future version. To retain the old behavior, explicitly call `result.infer_objects(copy=False)`. To opt-in to the future behavior, set `pd.set_option('future.no_silent_downcasting', True)`\n",
      "  merged_data.replace(-9, \"Unknown\", inplace=True)\n"
     ]
    },
    {
     "data": {
      "text/html": [
       "<div>\n",
       "<style scoped>\n",
       "    .dataframe tbody tr th:only-of-type {\n",
       "        vertical-align: middle;\n",
       "    }\n",
       "\n",
       "    .dataframe tbody tr th {\n",
       "        vertical-align: top;\n",
       "    }\n",
       "\n",
       "    .dataframe thead th {\n",
       "        text-align: right;\n",
       "    }\n",
       "</style>\n",
       "<table border=\"1\" class=\"dataframe\">\n",
       "  <thead>\n",
       "    <tr style=\"text-align: right;\">\n",
       "      <th></th>\n",
       "      <th>Crash ID</th>\n",
       "      <th>State</th>\n",
       "      <th>Month</th>\n",
       "      <th>Year</th>\n",
       "      <th>Dayweek</th>\n",
       "      <th>Time</th>\n",
       "      <th>Crash Type</th>\n",
       "      <th>Number Fatalities</th>\n",
       "      <th>Bus Involvement</th>\n",
       "      <th>Heavy Rigid Truck Involvement</th>\n",
       "      <th>...</th>\n",
       "      <th>National LGA Name 2021</th>\n",
       "      <th>National Road Type</th>\n",
       "      <th>Christmas Period</th>\n",
       "      <th>Easter Period</th>\n",
       "      <th>Day of week</th>\n",
       "      <th>Time of Day</th>\n",
       "      <th>Road User</th>\n",
       "      <th>Gender</th>\n",
       "      <th>Age</th>\n",
       "      <th>Age Group</th>\n",
       "    </tr>\n",
       "  </thead>\n",
       "  <tbody>\n",
       "    <tr>\n",
       "      <th>0</th>\n",
       "      <td>20241115</td>\n",
       "      <td>NSW</td>\n",
       "      <td>12</td>\n",
       "      <td>2024</td>\n",
       "      <td>Friday</td>\n",
       "      <td>04:00:00</td>\n",
       "      <td>Single</td>\n",
       "      <td>1</td>\n",
       "      <td>No</td>\n",
       "      <td>No</td>\n",
       "      <td>...</td>\n",
       "      <td>Wagga Wagga</td>\n",
       "      <td>Arterial Road</td>\n",
       "      <td>Yes</td>\n",
       "      <td>No</td>\n",
       "      <td>Weekday</td>\n",
       "      <td>Night</td>\n",
       "      <td>Driver</td>\n",
       "      <td>Male</td>\n",
       "      <td>74</td>\n",
       "      <td>65_to_74</td>\n",
       "    </tr>\n",
       "    <tr>\n",
       "      <th>1</th>\n",
       "      <td>20241125</td>\n",
       "      <td>NSW</td>\n",
       "      <td>12</td>\n",
       "      <td>2024</td>\n",
       "      <td>Friday</td>\n",
       "      <td>06:15:00</td>\n",
       "      <td>Single</td>\n",
       "      <td>1</td>\n",
       "      <td>No</td>\n",
       "      <td>No</td>\n",
       "      <td>...</td>\n",
       "      <td>Hawkesbury</td>\n",
       "      <td>Local Road</td>\n",
       "      <td>No</td>\n",
       "      <td>No</td>\n",
       "      <td>Weekday</td>\n",
       "      <td>Day</td>\n",
       "      <td>Driver</td>\n",
       "      <td>Female</td>\n",
       "      <td>19</td>\n",
       "      <td>17_to_25</td>\n",
       "    </tr>\n",
       "    <tr>\n",
       "      <th>2</th>\n",
       "      <td>20246013</td>\n",
       "      <td>TAS</td>\n",
       "      <td>12</td>\n",
       "      <td>2024</td>\n",
       "      <td>Friday</td>\n",
       "      <td>09:43:00</td>\n",
       "      <td>Multiple</td>\n",
       "      <td>1</td>\n",
       "      <td>No</td>\n",
       "      <td>No</td>\n",
       "      <td>...</td>\n",
       "      <td>Northern Midlands</td>\n",
       "      <td>Local Road</td>\n",
       "      <td>Yes</td>\n",
       "      <td>No</td>\n",
       "      <td>Weekday</td>\n",
       "      <td>Day</td>\n",
       "      <td>Driver</td>\n",
       "      <td>Female</td>\n",
       "      <td>33</td>\n",
       "      <td>26_to_39</td>\n",
       "    </tr>\n",
       "    <tr>\n",
       "      <th>3</th>\n",
       "      <td>20241002</td>\n",
       "      <td>NSW</td>\n",
       "      <td>12</td>\n",
       "      <td>2024</td>\n",
       "      <td>Friday</td>\n",
       "      <td>10:35:00</td>\n",
       "      <td>Multiple</td>\n",
       "      <td>1</td>\n",
       "      <td>No</td>\n",
       "      <td>No</td>\n",
       "      <td>...</td>\n",
       "      <td>Armidale Regional</td>\n",
       "      <td>National or State Highway</td>\n",
       "      <td>No</td>\n",
       "      <td>No</td>\n",
       "      <td>Weekday</td>\n",
       "      <td>Day</td>\n",
       "      <td>Driver</td>\n",
       "      <td>Female</td>\n",
       "      <td>32</td>\n",
       "      <td>26_to_39</td>\n",
       "    </tr>\n",
       "    <tr>\n",
       "      <th>4</th>\n",
       "      <td>20242261</td>\n",
       "      <td>VIC</td>\n",
       "      <td>12</td>\n",
       "      <td>2024</td>\n",
       "      <td>Friday</td>\n",
       "      <td>11:30:00</td>\n",
       "      <td>Multiple</td>\n",
       "      <td>1</td>\n",
       "      <td>Unknown</td>\n",
       "      <td>Unknown</td>\n",
       "      <td>...</td>\n",
       "      <td>Unknown</td>\n",
       "      <td>Undetermined</td>\n",
       "      <td>No</td>\n",
       "      <td>No</td>\n",
       "      <td>Weekday</td>\n",
       "      <td>Day</td>\n",
       "      <td>Passenger</td>\n",
       "      <td>Male</td>\n",
       "      <td>62</td>\n",
       "      <td>40_to_64</td>\n",
       "    </tr>\n",
       "  </tbody>\n",
       "</table>\n",
       "<p>5 rows × 24 columns</p>\n",
       "</div>"
      ],
      "text/plain": [
       "0  Crash ID State  Month  Year Dayweek      Time Crash Type  \\\n",
       "0  20241115   NSW     12  2024  Friday  04:00:00     Single   \n",
       "1  20241125   NSW     12  2024  Friday  06:15:00     Single   \n",
       "2  20246013   TAS     12  2024  Friday  09:43:00   Multiple   \n",
       "3  20241002   NSW     12  2024  Friday  10:35:00   Multiple   \n",
       "4  20242261   VIC     12  2024  Friday  11:30:00   Multiple   \n",
       "\n",
       "0  Number Fatalities Bus Involvement Heavy Rigid Truck Involvement  ...  \\\n",
       "0                  1              No                            No  ...   \n",
       "1                  1              No                            No  ...   \n",
       "2                  1              No                            No  ...   \n",
       "3                  1              No                            No  ...   \n",
       "4                  1         Unknown                       Unknown  ...   \n",
       "\n",
       "0 National LGA Name 2021         National Road Type Christmas Period  \\\n",
       "0            Wagga Wagga              Arterial Road              Yes   \n",
       "1             Hawkesbury                 Local Road               No   \n",
       "2      Northern Midlands                 Local Road              Yes   \n",
       "3      Armidale Regional  National or State Highway               No   \n",
       "4                Unknown               Undetermined               No   \n",
       "\n",
       "0 Easter Period Day of week Time of Day  Road User  Gender Age Age Group  \n",
       "0            No     Weekday       Night     Driver    Male  74  65_to_74  \n",
       "1            No     Weekday         Day     Driver  Female  19  17_to_25  \n",
       "2            No     Weekday         Day     Driver  Female  33  26_to_39  \n",
       "3            No     Weekday         Day     Driver  Female  32  26_to_39  \n",
       "4            No     Weekday         Day  Passenger    Male  62  40_to_64  \n",
       "\n",
       "[5 rows x 24 columns]"
      ]
     },
     "execution_count": 18,
     "metadata": {},
     "output_type": "execute_result"
    }
   ],
   "source": [
    "merged_data[\"State\"]=merged_data[\"State\"].str.upper()\n",
    "\n",
    "# Replace all occurrences of -9 with \"Unknown\" in the entire DataFrame\n",
    "merged_data.replace(-9, \"Unknown\", inplace=True)\n",
    "\n",
    "# Replace all NaN (empty) values in the entire DataFrame with \"Unknown\"\n",
    "merged_data.fillna(\"Unknown\", inplace=True)\n",
    "\n",
    "\n",
    "\n",
    "merged_data.head()"
   ]
  },
  {
   "cell_type": "code",
   "execution_count": 19,
   "id": "fb8c7081-ab75-4c5d-94cf-efcb3a64a9cd",
   "metadata": {},
   "outputs": [
    {
     "name": "stdout",
     "output_type": "stream",
     "text": [
      "0  Road User\n",
      "0     Driver\n",
      "1     Driver\n",
      "2     Driver\n",
      "3     Driver\n",
      "4  Passenger\n"
     ]
    }
   ],
   "source": [
    "merged_data.columns = merged_data.columns.str.strip()\n",
    "# Custom function to mask '-9' \n",
    "def mask_invalid_values(value):\n",
    "    if isinstance(value, str):\n",
    "        if ('-9' or \"Unknown\") in value :  # Check if value contains '-9' or \"Unknown\"\n",
    "            return 'Other'\n",
    "    return value\n",
    "\n",
    "# Apply the masking function to a specific column (e.g., 'Crash Type')\n",
    "merged_data['Road User'] = merged_data['Road User'].apply(mask_invalid_values)\n",
    "\n",
    "# Verify the change\n",
    "print(merged_data[['Road User']].head())"
   ]
  },
  {
   "cell_type": "code",
   "execution_count": 20,
   "id": "f3723ea3-77e3-456e-944f-aabab5a2c0b4",
   "metadata": {},
   "outputs": [],
   "source": [
    "merged_data=merged_data[merged_data[\"Speed Limit\"]!=\"<40\"]"
   ]
  },
  {
   "cell_type": "code",
   "execution_count": 21,
   "id": "efeb8b16-ba85-4b1c-81b3-7729c7261e58",
   "metadata": {},
   "outputs": [
    {
     "name": "stdout",
     "output_type": "stream",
     "text": [
      "Number of rows with 'Unknown' Speed Limit: 1478\n",
      "Number of rows with 'Unknown' Age: 105\n",
      "0            100\n",
      "1             80\n",
      "2             50\n",
      "3            100\n",
      "4        Unknown\n",
      "          ...   \n",
      "56703        100\n",
      "56704        100\n",
      "56705        100\n",
      "56706        100\n",
      "56707    Unknown\n",
      "Name: Speed Limit, Length: 56700, dtype: object\n",
      "Total rows after removal: 55136\n"
     ]
    }
   ],
   "source": [
    "# Count the number of rows where \"Speed Limit\" is \"Unknown\"\n",
    "num_unknown_speed = (merged_data[\"Speed Limit\"] == \"Unknown\").sum()\n",
    "print(f\"Number of rows with 'Unknown' Speed Limit: {num_unknown_speed}\")\n",
    "\n",
    "# Count the number of rows where \"Age\" is \"Unknown\"\n",
    "num_unknown_age = (merged_data[\"Age\"] == \"Unknown\").sum()\n",
    "print(f\"Number of rows with 'Unknown' Age: {num_unknown_age}\")\n",
    "\n",
    "print(merged_data[\"Speed Limit\"] )\n",
    "# Filter out rows where \"Speed Limit\" or \"Age\" is \"Unknown\"\n",
    "merged_data = merged_data[(merged_data[\"Speed Limit\"] != \"Unknown\") & \n",
    "                          (merged_data[\"Age\"] != \"Unknown\")]\n",
    "\n",
    "#print(merged_data[\"Speed Limit\"] )\n",
    "# Print the updated number of rows after removal\n",
    "print(f\"Total rows after removal: {merged_data.shape[0]}\")"
   ]
  },
  {
   "cell_type": "code",
   "execution_count": 22,
   "id": "b3e83749-b28d-48af-b4a3-6eb94a1f1fbd",
   "metadata": {},
   "outputs": [],
   "source": [
    "merged_data.to_csv(\"merged_data.csv\",index=False)"
   ]
  },
  {
   "cell_type": "markdown",
   "id": "a8069de2-1de9-4411-af31-ffa4cef575bd",
   "metadata": {},
   "source": [
    "## Dimensional Tables and Fact Tables"
   ]
  },
  {
   "cell_type": "markdown",
   "id": "6f59be82-4eb6-49f0-8e3a-6faecf2447fb",
   "metadata": {},
   "source": [
    "\n",
    "### Location Dimesion"
   ]
  },
  {
   "cell_type": "code",
   "execution_count": 25,
   "id": "1c167f74-77bd-484e-8467-711c307fe765",
   "metadata": {},
   "outputs": [
    {
     "data": {
      "text/plain": [
       "Index(['Crash ID', 'State', 'Month', 'Year', 'Dayweek', 'Time', 'Crash Type',\n",
       "       'Number Fatalities', 'Bus Involvement', 'Heavy Rigid Truck Involvement',\n",
       "       'Articulated Truck Involvement', 'Speed Limit',\n",
       "       'National Remoteness Areas', 'SA4 Name 2021', 'National LGA Name 2021',\n",
       "       'National Road Type', 'Christmas Period', 'Easter Period',\n",
       "       'Day of week', 'Time of Day', 'Road User', 'Gender', 'Age',\n",
       "       'Age Group'],\n",
       "      dtype='object', name=0)"
      ]
     },
     "execution_count": 25,
     "metadata": {},
     "output_type": "execute_result"
    }
   ],
   "source": [
    "merged_data.head()\n",
    "merged_data.columns"
   ]
  },
  {
   "cell_type": "code",
   "execution_count": 26,
   "id": "17b6976b-b087-49b4-8f25-81a35c89d9d2",
   "metadata": {},
   "outputs": [],
   "source": [
    "# Create a new DataFrame 'dim_location' to serve as the Location Dimension table\n",
    "# It includes selected location-related columns from the 'merged_data' DataFrame\n",
    "dim_location = pd.DataFrame({\n",
    "    \"State\": merged_data[\"State\"],  # Extract the State information\n",
    "    \"National Remoteness Areas\": merged_data[\"National Remoteness Areas\"],  # Include remoteness classification\n",
    "    \"SA4 Name 2021\": merged_data[\"SA4 Name 2021\"],  # Include SA4 region name based on 2021 standards\n",
    "    \"National LGA Name 2021\": merged_data[\"National LGA Name 2021\"]  # Include the Local Government Area name\n",
    "})\n"
   ]
  },
  {
   "cell_type": "code",
   "execution_count": 27,
   "id": "ff8329d9-a9f0-4833-9f55-29b7a7b788f6",
   "metadata": {},
   "outputs": [],
   "source": [
    "dim_location=dim_location.drop_duplicates()\n"
   ]
  },
  {
   "cell_type": "code",
   "execution_count": 28,
   "id": "bd600ef7-2db0-424f-8dd8-2a37c379b1c7",
   "metadata": {},
   "outputs": [
    {
     "data": {
      "text/html": [
       "<div>\n",
       "<style scoped>\n",
       "    .dataframe tbody tr th:only-of-type {\n",
       "        vertical-align: middle;\n",
       "    }\n",
       "\n",
       "    .dataframe tbody tr th {\n",
       "        vertical-align: top;\n",
       "    }\n",
       "\n",
       "    .dataframe thead th {\n",
       "        text-align: right;\n",
       "    }\n",
       "</style>\n",
       "<table border=\"1\" class=\"dataframe\">\n",
       "  <thead>\n",
       "    <tr style=\"text-align: right;\">\n",
       "      <th></th>\n",
       "      <th>State</th>\n",
       "      <th>National Remoteness Areas</th>\n",
       "      <th>SA4 Name 2021</th>\n",
       "      <th>National LGA Name 2021</th>\n",
       "      <th>Location ID</th>\n",
       "    </tr>\n",
       "  </thead>\n",
       "  <tbody>\n",
       "    <tr>\n",
       "      <th>0</th>\n",
       "      <td>NSW</td>\n",
       "      <td>Inner Regional Australia</td>\n",
       "      <td>Riverina</td>\n",
       "      <td>Wagga Wagga</td>\n",
       "      <td>1</td>\n",
       "    </tr>\n",
       "    <tr>\n",
       "      <th>1</th>\n",
       "      <td>NSW</td>\n",
       "      <td>Inner Regional Australia</td>\n",
       "      <td>Sydney - Baulkham Hills and Hawkesbury</td>\n",
       "      <td>Hawkesbury</td>\n",
       "      <td>2</td>\n",
       "    </tr>\n",
       "    <tr>\n",
       "      <th>2</th>\n",
       "      <td>TAS</td>\n",
       "      <td>Inner Regional Australia</td>\n",
       "      <td>Launceston and North East</td>\n",
       "      <td>Northern Midlands</td>\n",
       "      <td>3</td>\n",
       "    </tr>\n",
       "    <tr>\n",
       "      <th>3</th>\n",
       "      <td>NSW</td>\n",
       "      <td>Outer Regional Australia</td>\n",
       "      <td>New England and North West</td>\n",
       "      <td>Armidale Regional</td>\n",
       "      <td>4</td>\n",
       "    </tr>\n",
       "    <tr>\n",
       "      <th>5</th>\n",
       "      <td>QLD</td>\n",
       "      <td>Inner Regional Australia</td>\n",
       "      <td>Toowoomba</td>\n",
       "      <td>Lockyer Valley</td>\n",
       "      <td>5</td>\n",
       "    </tr>\n",
       "    <tr>\n",
       "      <th>...</th>\n",
       "      <td>...</td>\n",
       "      <td>...</td>\n",
       "      <td>...</td>\n",
       "      <td>...</td>\n",
       "      <td>...</td>\n",
       "    </tr>\n",
       "    <tr>\n",
       "      <th>12038</th>\n",
       "      <td>WA</td>\n",
       "      <td>Outer Regional Australia</td>\n",
       "      <td>Bunbury</td>\n",
       "      <td>Boyup Brook</td>\n",
       "      <td>799</td>\n",
       "    </tr>\n",
       "    <tr>\n",
       "      <th>12110</th>\n",
       "      <td>WA</td>\n",
       "      <td>Major Cities of Australia</td>\n",
       "      <td>Perth - Inner</td>\n",
       "      <td>Cottesloe</td>\n",
       "      <td>800</td>\n",
       "    </tr>\n",
       "    <tr>\n",
       "      <th>12602</th>\n",
       "      <td>WA</td>\n",
       "      <td>Remote Australia</td>\n",
       "      <td>Western Australia - Wheat Belt</td>\n",
       "      <td>Wickepin</td>\n",
       "      <td>801</td>\n",
       "    </tr>\n",
       "    <tr>\n",
       "      <th>12925</th>\n",
       "      <td>WA</td>\n",
       "      <td>Very Remote Australia</td>\n",
       "      <td>Western Australia - Outback (South)</td>\n",
       "      <td>Leonora</td>\n",
       "      <td>802</td>\n",
       "    </tr>\n",
       "    <tr>\n",
       "      <th>13136</th>\n",
       "      <td>SA</td>\n",
       "      <td>Unknown</td>\n",
       "      <td>Unknown</td>\n",
       "      <td>Unknown</td>\n",
       "      <td>803</td>\n",
       "    </tr>\n",
       "  </tbody>\n",
       "</table>\n",
       "<p>803 rows × 5 columns</p>\n",
       "</div>"
      ],
      "text/plain": [
       "      State  National Remoteness Areas  \\\n",
       "0       NSW   Inner Regional Australia   \n",
       "1       NSW   Inner Regional Australia   \n",
       "2       TAS   Inner Regional Australia   \n",
       "3       NSW   Outer Regional Australia   \n",
       "5       QLD   Inner Regional Australia   \n",
       "...     ...                        ...   \n",
       "12038    WA   Outer Regional Australia   \n",
       "12110    WA  Major Cities of Australia   \n",
       "12602    WA           Remote Australia   \n",
       "12925    WA      Very Remote Australia   \n",
       "13136    SA                    Unknown   \n",
       "\n",
       "                                SA4 Name 2021 National LGA Name 2021  \\\n",
       "0                                    Riverina            Wagga Wagga   \n",
       "1      Sydney - Baulkham Hills and Hawkesbury             Hawkesbury   \n",
       "2                   Launceston and North East      Northern Midlands   \n",
       "3                  New England and North West      Armidale Regional   \n",
       "5                                   Toowoomba         Lockyer Valley   \n",
       "...                                       ...                    ...   \n",
       "12038                                 Bunbury            Boyup Brook   \n",
       "12110                           Perth - Inner              Cottesloe   \n",
       "12602          Western Australia - Wheat Belt               Wickepin   \n",
       "12925     Western Australia - Outback (South)                Leonora   \n",
       "13136                                 Unknown                Unknown   \n",
       "\n",
       "       Location ID  \n",
       "0                1  \n",
       "1                2  \n",
       "2                3  \n",
       "3                4  \n",
       "5                5  \n",
       "...            ...  \n",
       "12038          799  \n",
       "12110          800  \n",
       "12602          801  \n",
       "12925          802  \n",
       "13136          803  \n",
       "\n",
       "[803 rows x 5 columns]"
      ]
     },
     "execution_count": 28,
     "metadata": {},
     "output_type": "execute_result"
    }
   ],
   "source": [
    "# Add a new column 'Location ID' to the 'dim_location' DataFrame\n",
    "# This assigns a unique identifier to each row, starting from 1 up to the number of rows in the DataFrame\n",
    "dim_location[\"Location ID\"] = range(1, len(dim_location) + 1)\n",
    "\n",
    "# Display the updated 'dim_location' DataFrame with the new 'Location ID' column\n",
    "dim_location\n"
   ]
  },
  {
   "cell_type": "code",
   "execution_count": 29,
   "id": "0b5fa87a-96c2-456e-a803-feaa6c074fdb",
   "metadata": {},
   "outputs": [],
   "source": [
    "# Reorder the columns in the 'dim_location' DataFrame to match the desired structure:\n",
    "# 'Location ID' first, followed by 'State', 'National Remoteness Areas', 'SA4 Name 2021', and 'National LGA Name 2021'\n",
    "dim_location = dim_location[[\"Location ID\", \"State\", \"National Remoteness Areas\", \"SA4 Name 2021\", \"National LGA Name 2021\"]]\n"
   ]
  },
  {
   "cell_type": "code",
   "execution_count": 30,
   "id": "52f0b40f-f224-4588-a7db-13fd0d4a2f4e",
   "metadata": {},
   "outputs": [],
   "source": [
    "dim_location.to_csv(\"Dim_Location.csv\",index=False)"
   ]
  },
  {
   "cell_type": "code",
   "execution_count": 31,
   "id": "45b35099-3a24-46e5-8a67-120935234f6b",
   "metadata": {},
   "outputs": [
    {
     "data": {
      "text/html": [
       "<div>\n",
       "<style scoped>\n",
       "    .dataframe tbody tr th:only-of-type {\n",
       "        vertical-align: middle;\n",
       "    }\n",
       "\n",
       "    .dataframe tbody tr th {\n",
       "        vertical-align: top;\n",
       "    }\n",
       "\n",
       "    .dataframe thead th {\n",
       "        text-align: right;\n",
       "    }\n",
       "</style>\n",
       "<table border=\"1\" class=\"dataframe\">\n",
       "  <thead>\n",
       "    <tr style=\"text-align: right;\">\n",
       "      <th></th>\n",
       "      <th>Location ID</th>\n",
       "      <th>State</th>\n",
       "      <th>National Remoteness Areas</th>\n",
       "      <th>SA4 Name 2021</th>\n",
       "      <th>National LGA Name 2021</th>\n",
       "    </tr>\n",
       "  </thead>\n",
       "  <tbody>\n",
       "    <tr>\n",
       "      <th>0</th>\n",
       "      <td>1</td>\n",
       "      <td>NSW</td>\n",
       "      <td>Inner Regional Australia</td>\n",
       "      <td>Riverina</td>\n",
       "      <td>Wagga Wagga</td>\n",
       "    </tr>\n",
       "    <tr>\n",
       "      <th>1</th>\n",
       "      <td>2</td>\n",
       "      <td>NSW</td>\n",
       "      <td>Inner Regional Australia</td>\n",
       "      <td>Sydney - Baulkham Hills and Hawkesbury</td>\n",
       "      <td>Hawkesbury</td>\n",
       "    </tr>\n",
       "    <tr>\n",
       "      <th>2</th>\n",
       "      <td>3</td>\n",
       "      <td>TAS</td>\n",
       "      <td>Inner Regional Australia</td>\n",
       "      <td>Launceston and North East</td>\n",
       "      <td>Northern Midlands</td>\n",
       "    </tr>\n",
       "    <tr>\n",
       "      <th>3</th>\n",
       "      <td>4</td>\n",
       "      <td>NSW</td>\n",
       "      <td>Outer Regional Australia</td>\n",
       "      <td>New England and North West</td>\n",
       "      <td>Armidale Regional</td>\n",
       "    </tr>\n",
       "    <tr>\n",
       "      <th>5</th>\n",
       "      <td>5</td>\n",
       "      <td>QLD</td>\n",
       "      <td>Inner Regional Australia</td>\n",
       "      <td>Toowoomba</td>\n",
       "      <td>Lockyer Valley</td>\n",
       "    </tr>\n",
       "  </tbody>\n",
       "</table>\n",
       "</div>"
      ],
      "text/plain": [
       "   Location ID State National Remoteness Areas  \\\n",
       "0            1   NSW  Inner Regional Australia   \n",
       "1            2   NSW  Inner Regional Australia   \n",
       "2            3   TAS  Inner Regional Australia   \n",
       "3            4   NSW  Outer Regional Australia   \n",
       "5            5   QLD  Inner Regional Australia   \n",
       "\n",
       "                            SA4 Name 2021 National LGA Name 2021  \n",
       "0                                Riverina            Wagga Wagga  \n",
       "1  Sydney - Baulkham Hills and Hawkesbury             Hawkesbury  \n",
       "2               Launceston and North East      Northern Midlands  \n",
       "3              New England and North West      Armidale Regional  \n",
       "5                               Toowoomba         Lockyer Valley  "
      ]
     },
     "execution_count": 31,
     "metadata": {},
     "output_type": "execute_result"
    }
   ],
   "source": [
    "dim_location.head()"
   ]
  },
  {
   "cell_type": "markdown",
   "id": "ed76c22e-0b9f-48c9-8668-a8bb133fbbb6",
   "metadata": {},
   "source": [
    "### Dim_Road"
   ]
  },
  {
   "cell_type": "code",
   "execution_count": 33,
   "id": "41cba410-1b6d-4303-aa4f-f47c90f77203",
   "metadata": {},
   "outputs": [
    {
     "data": {
      "text/plain": [
       "Index(['Crash ID', 'State', 'Month', 'Year', 'Dayweek', 'Time', 'Crash Type',\n",
       "       'Number Fatalities', 'Bus Involvement', 'Heavy Rigid Truck Involvement',\n",
       "       'Articulated Truck Involvement', 'Speed Limit',\n",
       "       'National Remoteness Areas', 'SA4 Name 2021', 'National LGA Name 2021',\n",
       "       'National Road Type', 'Christmas Period', 'Easter Period',\n",
       "       'Day of week', 'Time of Day', 'Road User', 'Gender', 'Age',\n",
       "       'Age Group'],\n",
       "      dtype='object', name=0)"
      ]
     },
     "execution_count": 33,
     "metadata": {},
     "output_type": "execute_result"
    }
   ],
   "source": [
    "merged_data.head()\n",
    "merged_data.columns"
   ]
  },
  {
   "cell_type": "code",
   "execution_count": 186,
   "id": "3af774c7-aa4e-4d47-8602-c21fabec23ba",
   "metadata": {},
   "outputs": [],
   "source": [
    "# Create a new DataFrame named 'dim_road' containing only the 'National Road Type' column from the 'merged_data' DataFrame.\n",
    "dim_road = pd.DataFrame({\"National Road Type\": merged_data[\"National Road Type\"]})\n"
   ]
  },
  {
   "cell_type": "code",
   "execution_count": 188,
   "id": "3607328f-48a1-467b-aa09-e9c685dc08dc",
   "metadata": {},
   "outputs": [
    {
     "data": {
      "text/html": [
       "<div>\n",
       "<style scoped>\n",
       "    .dataframe tbody tr th:only-of-type {\n",
       "        vertical-align: middle;\n",
       "    }\n",
       "\n",
       "    .dataframe tbody tr th {\n",
       "        vertical-align: top;\n",
       "    }\n",
       "\n",
       "    .dataframe thead th {\n",
       "        text-align: right;\n",
       "    }\n",
       "</style>\n",
       "<table border=\"1\" class=\"dataframe\">\n",
       "  <thead>\n",
       "    <tr style=\"text-align: right;\">\n",
       "      <th></th>\n",
       "      <th>National Road Type</th>\n",
       "      <th>Road ID</th>\n",
       "    </tr>\n",
       "  </thead>\n",
       "  <tbody>\n",
       "    <tr>\n",
       "      <th>0</th>\n",
       "      <td>Arterial Road</td>\n",
       "      <td>1</td>\n",
       "    </tr>\n",
       "    <tr>\n",
       "      <th>1</th>\n",
       "      <td>Local Road</td>\n",
       "      <td>2</td>\n",
       "    </tr>\n",
       "    <tr>\n",
       "      <th>3</th>\n",
       "      <td>National or State Highway</td>\n",
       "      <td>3</td>\n",
       "    </tr>\n",
       "    <tr>\n",
       "      <th>6</th>\n",
       "      <td>Sub-arterial Road</td>\n",
       "      <td>4</td>\n",
       "    </tr>\n",
       "    <tr>\n",
       "      <th>7</th>\n",
       "      <td>Undetermined</td>\n",
       "      <td>5</td>\n",
       "    </tr>\n",
       "    <tr>\n",
       "      <th>17</th>\n",
       "      <td>Collector Road</td>\n",
       "      <td>6</td>\n",
       "    </tr>\n",
       "    <tr>\n",
       "      <th>153</th>\n",
       "      <td>Pedestrian Thoroughfare</td>\n",
       "      <td>7</td>\n",
       "    </tr>\n",
       "    <tr>\n",
       "      <th>282</th>\n",
       "      <td>Access road</td>\n",
       "      <td>8</td>\n",
       "    </tr>\n",
       "    <tr>\n",
       "      <th>969</th>\n",
       "      <td>Busway</td>\n",
       "      <td>9</td>\n",
       "    </tr>\n",
       "  </tbody>\n",
       "</table>\n",
       "</div>"
      ],
      "text/plain": [
       "            National Road Type  Road ID\n",
       "0                Arterial Road        1\n",
       "1                   Local Road        2\n",
       "3    National or State Highway        3\n",
       "6            Sub-arterial Road        4\n",
       "7                 Undetermined        5\n",
       "17              Collector Road        6\n",
       "153    Pedestrian Thoroughfare        7\n",
       "282                Access road        8\n",
       "969                     Busway        9"
      ]
     },
     "execution_count": 188,
     "metadata": {},
     "output_type": "execute_result"
    }
   ],
   "source": [
    "# Remove duplicate rows from the 'dim_road' DataFrame to ensure uniqueness of road types.\n",
    "dim_road = dim_road.drop_duplicates()\n",
    "\n",
    "# Add a new column 'Road ID' assigning a unique identifier to each road type starting from 1.\n",
    "dim_road[\"Road ID\"] = range(1, len(dim_road) + 1)\n",
    "\n",
    "# Display the updated 'dim_road' DataFrame.\n",
    "dim_road\n"
   ]
  },
  {
   "cell_type": "code",
   "execution_count": 191,
   "id": "f65974ab-1da6-4840-b7b1-7bb1b71dd70a",
   "metadata": {},
   "outputs": [
    {
     "data": {
      "text/html": [
       "<div>\n",
       "<style scoped>\n",
       "    .dataframe tbody tr th:only-of-type {\n",
       "        vertical-align: middle;\n",
       "    }\n",
       "\n",
       "    .dataframe tbody tr th {\n",
       "        vertical-align: top;\n",
       "    }\n",
       "\n",
       "    .dataframe thead th {\n",
       "        text-align: right;\n",
       "    }\n",
       "</style>\n",
       "<table border=\"1\" class=\"dataframe\">\n",
       "  <thead>\n",
       "    <tr style=\"text-align: right;\">\n",
       "      <th></th>\n",
       "      <th>Road ID</th>\n",
       "      <th>National Road Type</th>\n",
       "    </tr>\n",
       "  </thead>\n",
       "  <tbody>\n",
       "    <tr>\n",
       "      <th>0</th>\n",
       "      <td>1</td>\n",
       "      <td>Arterial Road</td>\n",
       "    </tr>\n",
       "    <tr>\n",
       "      <th>1</th>\n",
       "      <td>2</td>\n",
       "      <td>Local Road</td>\n",
       "    </tr>\n",
       "    <tr>\n",
       "      <th>3</th>\n",
       "      <td>3</td>\n",
       "      <td>National or State Highway</td>\n",
       "    </tr>\n",
       "    <tr>\n",
       "      <th>6</th>\n",
       "      <td>4</td>\n",
       "      <td>Sub-arterial Road</td>\n",
       "    </tr>\n",
       "    <tr>\n",
       "      <th>7</th>\n",
       "      <td>5</td>\n",
       "      <td>Undetermined</td>\n",
       "    </tr>\n",
       "  </tbody>\n",
       "</table>\n",
       "</div>"
      ],
      "text/plain": [
       "   Road ID         National Road Type\n",
       "0        1              Arterial Road\n",
       "1        2                 Local Road\n",
       "3        3  National or State Highway\n",
       "6        4          Sub-arterial Road\n",
       "7        5               Undetermined"
      ]
     },
     "execution_count": 191,
     "metadata": {},
     "output_type": "execute_result"
    }
   ],
   "source": [
    "# Reorder the columns in the 'dim_road' DataFrame to have 'Road ID' first, followed by 'National Road Type'.\n",
    "dim_road = dim_road[[\"Road ID\", \"National Road Type\"]]\n",
    "\n",
    "# Display the first five rows of the reordered 'dim_road' DataFrame.\n",
    "dim_road.head()\n"
   ]
  },
  {
   "cell_type": "code",
   "execution_count": 37,
   "id": "cc877596-e6b6-46fb-8282-ff5fe03df660",
   "metadata": {},
   "outputs": [],
   "source": [
    "dim_road.to_csv(\"Dim_RoadTypes.csv\",index=False)\n"
   ]
  },
  {
   "cell_type": "markdown",
   "id": "f186ecc9-c35d-418c-8638-c1f0dbfed40c",
   "metadata": {},
   "source": [
    "### Date Dimension\n"
   ]
  },
  {
   "cell_type": "code",
   "execution_count": 39,
   "id": "f3cf07ab-6c90-449a-aebc-d4141d83c459",
   "metadata": {},
   "outputs": [
    {
     "data": {
      "text/plain": [
       "Index(['Crash ID', 'State', 'Month', 'Year', 'Dayweek', 'Time', 'Crash Type',\n",
       "       'Number Fatalities', 'Bus Involvement', 'Heavy Rigid Truck Involvement',\n",
       "       'Articulated Truck Involvement', 'Speed Limit',\n",
       "       'National Remoteness Areas', 'SA4 Name 2021', 'National LGA Name 2021',\n",
       "       'National Road Type', 'Christmas Period', 'Easter Period',\n",
       "       'Day of week', 'Time of Day', 'Road User', 'Gender', 'Age',\n",
       "       'Age Group'],\n",
       "      dtype='object', name=0)"
      ]
     },
     "execution_count": 39,
     "metadata": {},
     "output_type": "execute_result"
    }
   ],
   "source": [
    "merged_data.head()\n",
    "merged_data.columns"
   ]
  },
  {
   "cell_type": "code",
   "execution_count": 40,
   "id": "8659428d-6665-4fab-b275-dfa3da0c4e01",
   "metadata": {},
   "outputs": [
    {
     "data": {
      "text/html": [
       "<div>\n",
       "<style scoped>\n",
       "    .dataframe tbody tr th:only-of-type {\n",
       "        vertical-align: middle;\n",
       "    }\n",
       "\n",
       "    .dataframe tbody tr th {\n",
       "        vertical-align: top;\n",
       "    }\n",
       "\n",
       "    .dataframe thead th {\n",
       "        text-align: right;\n",
       "    }\n",
       "</style>\n",
       "<table border=\"1\" class=\"dataframe\">\n",
       "  <thead>\n",
       "    <tr style=\"text-align: right;\">\n",
       "      <th></th>\n",
       "      <th>Month</th>\n",
       "      <th>Year</th>\n",
       "      <th>Dayweek</th>\n",
       "    </tr>\n",
       "  </thead>\n",
       "  <tbody>\n",
       "    <tr>\n",
       "      <th>0</th>\n",
       "      <td>12</td>\n",
       "      <td>2024</td>\n",
       "      <td>Friday</td>\n",
       "    </tr>\n",
       "    <tr>\n",
       "      <th>1</th>\n",
       "      <td>12</td>\n",
       "      <td>2024</td>\n",
       "      <td>Friday</td>\n",
       "    </tr>\n",
       "    <tr>\n",
       "      <th>2</th>\n",
       "      <td>12</td>\n",
       "      <td>2024</td>\n",
       "      <td>Friday</td>\n",
       "    </tr>\n",
       "    <tr>\n",
       "      <th>3</th>\n",
       "      <td>12</td>\n",
       "      <td>2024</td>\n",
       "      <td>Friday</td>\n",
       "    </tr>\n",
       "    <tr>\n",
       "      <th>5</th>\n",
       "      <td>12</td>\n",
       "      <td>2024</td>\n",
       "      <td>Friday</td>\n",
       "    </tr>\n",
       "  </tbody>\n",
       "</table>\n",
       "</div>"
      ],
      "text/plain": [
       "   Month  Year Dayweek\n",
       "0     12  2024  Friday\n",
       "1     12  2024  Friday\n",
       "2     12  2024  Friday\n",
       "3     12  2024  Friday\n",
       "5     12  2024  Friday"
      ]
     },
     "execution_count": 40,
     "metadata": {},
     "output_type": "execute_result"
    }
   ],
   "source": [
    "# Create the 'dim_date' DataFrame by extracting relevant columns: 'Month', 'Year', and 'Dayweek' from the merged dataset.\n",
    "dim_date = pd.DataFrame({\n",
    "    \"Month\": merged_data[\"Month\"],\n",
    "    \"Year\": merged_data[\"Year\"],\n",
    "    \"Dayweek\": merged_data[\"Dayweek\"]\n",
    "})\n",
    "\n",
    "# Display the first five rows of the 'dim_date' DataFrame to preview the structure and values.\n",
    "dim_date.head()\n"
   ]
  },
  {
   "cell_type": "code",
   "execution_count": 41,
   "id": "43ede6f0-2faa-4e38-b3d5-9049da497107",
   "metadata": {},
   "outputs": [],
   "source": [
    "dim_date=dim_date.drop_duplicates()"
   ]
  },
  {
   "cell_type": "code",
   "execution_count": 193,
   "id": "b2de064a-c1c8-4daf-a383-a456178b3de1",
   "metadata": {},
   "outputs": [
    {
     "data": {
      "text/html": [
       "<div>\n",
       "<style scoped>\n",
       "    .dataframe tbody tr th:only-of-type {\n",
       "        vertical-align: middle;\n",
       "    }\n",
       "\n",
       "    .dataframe tbody tr th {\n",
       "        vertical-align: top;\n",
       "    }\n",
       "\n",
       "    .dataframe thead th {\n",
       "        text-align: right;\n",
       "    }\n",
       "</style>\n",
       "<table border=\"1\" class=\"dataframe\">\n",
       "  <thead>\n",
       "    <tr style=\"text-align: right;\">\n",
       "      <th></th>\n",
       "      <th>Date ID</th>\n",
       "      <th>Dayweek</th>\n",
       "      <th>Month</th>\n",
       "      <th>Year</th>\n",
       "    </tr>\n",
       "  </thead>\n",
       "  <tbody>\n",
       "    <tr>\n",
       "      <th>0</th>\n",
       "      <td>1</td>\n",
       "      <td>Friday</td>\n",
       "      <td>12</td>\n",
       "      <td>2024</td>\n",
       "    </tr>\n",
       "    <tr>\n",
       "      <th>14</th>\n",
       "      <td>2</td>\n",
       "      <td>Monday</td>\n",
       "      <td>12</td>\n",
       "      <td>2024</td>\n",
       "    </tr>\n",
       "    <tr>\n",
       "      <th>31</th>\n",
       "      <td>3</td>\n",
       "      <td>Saturday</td>\n",
       "      <td>12</td>\n",
       "      <td>2024</td>\n",
       "    </tr>\n",
       "    <tr>\n",
       "      <th>56</th>\n",
       "      <td>4</td>\n",
       "      <td>Sunday</td>\n",
       "      <td>12</td>\n",
       "      <td>2024</td>\n",
       "    </tr>\n",
       "    <tr>\n",
       "      <th>83</th>\n",
       "      <td>5</td>\n",
       "      <td>Thursday</td>\n",
       "      <td>12</td>\n",
       "      <td>2024</td>\n",
       "    </tr>\n",
       "  </tbody>\n",
       "</table>\n",
       "</div>"
      ],
      "text/plain": [
       "    Date ID   Dayweek  Month  Year\n",
       "0         1    Friday     12  2024\n",
       "14        2    Monday     12  2024\n",
       "31        3  Saturday     12  2024\n",
       "56        4    Sunday     12  2024\n",
       "83        5  Thursday     12  2024"
      ]
     },
     "execution_count": 193,
     "metadata": {},
     "output_type": "execute_result"
    }
   ],
   "source": [
    "# Add a new column 'Date ID' to the 'dim_date' DataFrame by assigning a unique ID to each row.\n",
    "dim_date[\"Date ID\"] = range(1, len(dim_date) + 1)\n",
    "\n",
    "# Display the first five rows of the updated 'dim_date' DataFrame to verify the addition of the 'Date ID'.\n",
    "dim_date.head()\n"
   ]
  },
  {
   "cell_type": "code",
   "execution_count": 43,
   "id": "54d365b1-52f0-48c6-b663-ea95f6719faf",
   "metadata": {},
   "outputs": [],
   "source": [
    "dim_date=dim_date[[\"Date ID\",\"Dayweek\",\"Month\",\"Year\"]]"
   ]
  },
  {
   "cell_type": "code",
   "execution_count": 44,
   "id": "6b896971-4970-4645-9267-b7cc6bdad0ad",
   "metadata": {},
   "outputs": [],
   "source": [
    "dim_date.to_csv(\"Dim_Date.csv\",index=False)"
   ]
  },
  {
   "cell_type": "markdown",
   "id": "d2b2179e-c143-4f10-8284-c680df07169c",
   "metadata": {},
   "source": [
    "### Period dimensions"
   ]
  },
  {
   "cell_type": "code",
   "execution_count": 46,
   "id": "97316233-8af9-4044-955e-7948f2d12ab2",
   "metadata": {},
   "outputs": [
    {
     "data": {
      "text/plain": [
       "Index(['Crash ID', 'State', 'Month', 'Year', 'Dayweek', 'Time', 'Crash Type',\n",
       "       'Number Fatalities', 'Bus Involvement', 'Heavy Rigid Truck Involvement',\n",
       "       'Articulated Truck Involvement', 'Speed Limit',\n",
       "       'National Remoteness Areas', 'SA4 Name 2021', 'National LGA Name 2021',\n",
       "       'National Road Type', 'Christmas Period', 'Easter Period',\n",
       "       'Day of week', 'Time of Day', 'Road User', 'Gender', 'Age',\n",
       "       'Age Group'],\n",
       "      dtype='object', name=0)"
      ]
     },
     "execution_count": 46,
     "metadata": {},
     "output_type": "execute_result"
    }
   ],
   "source": [
    "merged_data.head()\n",
    "merged_data.columns"
   ]
  },
  {
   "cell_type": "code",
   "execution_count": 47,
   "id": "06ad31dd-005c-41db-95a9-4030a9d8fa9a",
   "metadata": {},
   "outputs": [
    {
     "data": {
      "text/html": [
       "<div>\n",
       "<style scoped>\n",
       "    .dataframe tbody tr th:only-of-type {\n",
       "        vertical-align: middle;\n",
       "    }\n",
       "\n",
       "    .dataframe tbody tr th {\n",
       "        vertical-align: top;\n",
       "    }\n",
       "\n",
       "    .dataframe thead th {\n",
       "        text-align: right;\n",
       "    }\n",
       "</style>\n",
       "<table border=\"1\" class=\"dataframe\">\n",
       "  <thead>\n",
       "    <tr style=\"text-align: right;\">\n",
       "      <th></th>\n",
       "      <th>Day of week</th>\n",
       "      <th>Time of Day</th>\n",
       "    </tr>\n",
       "  </thead>\n",
       "  <tbody>\n",
       "    <tr>\n",
       "      <th>0</th>\n",
       "      <td>Weekday</td>\n",
       "      <td>Night</td>\n",
       "    </tr>\n",
       "    <tr>\n",
       "      <th>1</th>\n",
       "      <td>Weekday</td>\n",
       "      <td>Day</td>\n",
       "    </tr>\n",
       "    <tr>\n",
       "      <th>2</th>\n",
       "      <td>Weekday</td>\n",
       "      <td>Day</td>\n",
       "    </tr>\n",
       "    <tr>\n",
       "      <th>3</th>\n",
       "      <td>Weekday</td>\n",
       "      <td>Day</td>\n",
       "    </tr>\n",
       "    <tr>\n",
       "      <th>5</th>\n",
       "      <td>Weekday</td>\n",
       "      <td>Day</td>\n",
       "    </tr>\n",
       "  </tbody>\n",
       "</table>\n",
       "</div>"
      ],
      "text/plain": [
       "  Day of week Time of Day\n",
       "0     Weekday       Night\n",
       "1     Weekday         Day\n",
       "2     Weekday         Day\n",
       "3     Weekday         Day\n",
       "5     Weekday         Day"
      ]
     },
     "execution_count": 47,
     "metadata": {},
     "output_type": "execute_result"
    }
   ],
   "source": [
    "# Create the 'dim_period' dimension table with selected columns: 'Day of week' and 'Time of Day' from the merged_data DataFrame\n",
    "dim_period = pd.DataFrame({\n",
    "    \"Day of week\": merged_data[\"Day of week\"],\n",
    "    \"Time of Day\": merged_data[\"Time of Day\"]\n",
    "})\n",
    "\n",
    "# Display the first five rows of the 'dim_period' DataFrame to verify its structure\n",
    "dim_period.head()\n"
   ]
  },
  {
   "cell_type": "code",
   "execution_count": 48,
   "id": "487464be-0dbe-486a-b742-2eede0d3ba8c",
   "metadata": {},
   "outputs": [],
   "source": [
    "dim_period=dim_period.drop_duplicates()"
   ]
  },
  {
   "cell_type": "code",
   "execution_count": 49,
   "id": "162a34d9-eefd-4154-9ccb-9697888416b6",
   "metadata": {},
   "outputs": [
    {
     "data": {
      "text/html": [
       "<div>\n",
       "<style scoped>\n",
       "    .dataframe tbody tr th:only-of-type {\n",
       "        vertical-align: middle;\n",
       "    }\n",
       "\n",
       "    .dataframe tbody tr th {\n",
       "        vertical-align: top;\n",
       "    }\n",
       "\n",
       "    .dataframe thead th {\n",
       "        text-align: right;\n",
       "    }\n",
       "</style>\n",
       "<table border=\"1\" class=\"dataframe\">\n",
       "  <thead>\n",
       "    <tr style=\"text-align: right;\">\n",
       "      <th></th>\n",
       "      <th>Day of week</th>\n",
       "      <th>Time of Day</th>\n",
       "      <th>Period ID</th>\n",
       "    </tr>\n",
       "  </thead>\n",
       "  <tbody>\n",
       "    <tr>\n",
       "      <th>0</th>\n",
       "      <td>Weekday</td>\n",
       "      <td>Night</td>\n",
       "      <td>1</td>\n",
       "    </tr>\n",
       "    <tr>\n",
       "      <th>1</th>\n",
       "      <td>Weekday</td>\n",
       "      <td>Day</td>\n",
       "      <td>2</td>\n",
       "    </tr>\n",
       "    <tr>\n",
       "      <th>8</th>\n",
       "      <td>Weekend</td>\n",
       "      <td>Night</td>\n",
       "      <td>3</td>\n",
       "    </tr>\n",
       "    <tr>\n",
       "      <th>36</th>\n",
       "      <td>Weekend</td>\n",
       "      <td>Day</td>\n",
       "      <td>4</td>\n",
       "    </tr>\n",
       "    <tr>\n",
       "      <th>3276</th>\n",
       "      <td>Weekend</td>\n",
       "      <td>Unknown</td>\n",
       "      <td>5</td>\n",
       "    </tr>\n",
       "  </tbody>\n",
       "</table>\n",
       "</div>"
      ],
      "text/plain": [
       "     Day of week Time of Day  Period ID\n",
       "0        Weekday       Night          1\n",
       "1        Weekday         Day          2\n",
       "8        Weekend       Night          3\n",
       "36       Weekend         Day          4\n",
       "3276     Weekend     Unknown          5"
      ]
     },
     "execution_count": 49,
     "metadata": {},
     "output_type": "execute_result"
    }
   ],
   "source": [
    "# Add a new column 'Period ID' to the 'dim_period' DataFrame by assigning a unique ID to each row.\n",
    "dim_period[\"Period ID\"] = range(1, len(dim_period) + 1)\n",
    "\n",
    "# Display the first five rows of the updated 'dim_period' DataFrame to verify the addition of the 'Period ID'.\n",
    "dim_period.head()\n"
   ]
  },
  {
   "cell_type": "code",
   "execution_count": 50,
   "id": "9f553a2f-e5ee-492d-9b58-11a826159a82",
   "metadata": {},
   "outputs": [],
   "source": [
    "# Reorder the columns in the 'dim_period' DataFrame to have 'Period ID' first, followed by 'Time of Day' and 'Day of week'.\n",
    "dim_period = dim_period[[\"Period ID\", \"Time of Day\", \"Day of week\"]]\n"
   ]
  },
  {
   "cell_type": "code",
   "execution_count": 51,
   "id": "8fc35c96-fabe-4e4e-8767-208c9c8f2470",
   "metadata": {},
   "outputs": [],
   "source": [
    "dim_period.to_csv(\"Dim_Period.csv\",index=False)"
   ]
  },
  {
   "cell_type": "markdown",
   "id": "c5762ab1-9feb-4ad4-9fe8-9b6950205311",
   "metadata": {},
   "source": [
    "### Vacation Dimensions"
   ]
  },
  {
   "cell_type": "code",
   "execution_count": 53,
   "id": "a71e42c3-689b-40d2-b364-a1b3fec15c29",
   "metadata": {},
   "outputs": [
    {
     "data": {
      "text/plain": [
       "Index(['Crash ID', 'State', 'Month', 'Year', 'Dayweek', 'Time', 'Crash Type',\n",
       "       'Number Fatalities', 'Bus Involvement', 'Heavy Rigid Truck Involvement',\n",
       "       'Articulated Truck Involvement', 'Speed Limit',\n",
       "       'National Remoteness Areas', 'SA4 Name 2021', 'National LGA Name 2021',\n",
       "       'National Road Type', 'Christmas Period', 'Easter Period',\n",
       "       'Day of week', 'Time of Day', 'Road User', 'Gender', 'Age',\n",
       "       'Age Group'],\n",
       "      dtype='object', name=0)"
      ]
     },
     "execution_count": 53,
     "metadata": {},
     "output_type": "execute_result"
    }
   ],
   "source": [
    "merged_data.head()\n",
    "merged_data.columns"
   ]
  },
  {
   "cell_type": "code",
   "execution_count": 54,
   "id": "7bf3c73d-ec08-49dd-9810-a47a88faa49c",
   "metadata": {},
   "outputs": [],
   "source": [
    "# Create the 'dim_Vacation' DataFrame by extracting the 'Christmas Period' and 'Easter Period' columns from the merged_data DataFrame\n",
    "dim_Vacation = pd.DataFrame({\n",
    "    \"Christmas Period\": merged_data[\"Christmas Period\"],\n",
    "    \"Easter Period\": merged_data[\"Easter Period\"]\n",
    "})\n"
   ]
  },
  {
   "cell_type": "code",
   "execution_count": 195,
   "id": "f4948dd3-81f7-4072-86cf-335409356306",
   "metadata": {},
   "outputs": [],
   "source": [
    "# Remove any duplicate rows in the 'dim_Vacation' DataFrame to ensure only unique entries remain\n",
    "dim_Vacation = dim_Vacation.drop_duplicates()\n",
    "\n",
    "# Reorder the columns in the 'dim_Vacation' DataFrame to have 'Vacation ID' first, followed by 'Christmas Period' and 'Easter Period'\n",
    "dim_Vacation = dim_Vacation[[\"Vacation ID\", 'Christmas Period', 'Easter Period']]\n"
   ]
  },
  {
   "cell_type": "code",
   "execution_count": 197,
   "id": "40ffc70f-8e59-492e-be22-e51947a00ef8",
   "metadata": {},
   "outputs": [],
   "source": [
    "dim_Vacation=dim_Vacation[[\"Vacation ID\",'Christmas Period', 'Easter Period']]"
   ]
  },
  {
   "cell_type": "code",
   "execution_count": 57,
   "id": "61dc1d22-f8da-46d7-a70a-c26d8d15daae",
   "metadata": {},
   "outputs": [],
   "source": [
    "dim_Vacation.to_csv(\"Dim_Vacation.csv\",index=False)"
   ]
  },
  {
   "cell_type": "markdown",
   "id": "4a2b0f0d-4aac-4e82-83bf-8dcbd2796952",
   "metadata": {},
   "source": [
    "### Crash Dimensions"
   ]
  },
  {
   "cell_type": "code",
   "execution_count": 59,
   "id": "ba2807ac-319d-46b7-aaae-88bf472c1bcb",
   "metadata": {},
   "outputs": [
    {
     "data": {
      "text/plain": [
       "Index(['Crash ID', 'State', 'Month', 'Year', 'Dayweek', 'Time', 'Crash Type',\n",
       "       'Number Fatalities', 'Bus Involvement', 'Heavy Rigid Truck Involvement',\n",
       "       'Articulated Truck Involvement', 'Speed Limit',\n",
       "       'National Remoteness Areas', 'SA4 Name 2021', 'National LGA Name 2021',\n",
       "       'National Road Type', 'Christmas Period', 'Easter Period',\n",
       "       'Day of week', 'Time of Day', 'Road User', 'Gender', 'Age',\n",
       "       'Age Group'],\n",
       "      dtype='object', name=0)"
      ]
     },
     "execution_count": 59,
     "metadata": {},
     "output_type": "execute_result"
    }
   ],
   "source": [
    "merged_data.head()\n",
    "merged_data.columns"
   ]
  },
  {
   "cell_type": "code",
   "execution_count": 60,
   "id": "659c14fb-141a-4067-b729-ac6325088bb2",
   "metadata": {},
   "outputs": [
    {
     "data": {
      "text/html": [
       "<div>\n",
       "<style scoped>\n",
       "    .dataframe tbody tr th:only-of-type {\n",
       "        vertical-align: middle;\n",
       "    }\n",
       "\n",
       "    .dataframe tbody tr th {\n",
       "        vertical-align: top;\n",
       "    }\n",
       "\n",
       "    .dataframe thead th {\n",
       "        text-align: right;\n",
       "    }\n",
       "</style>\n",
       "<table border=\"1\" class=\"dataframe\">\n",
       "  <thead>\n",
       "    <tr style=\"text-align: right;\">\n",
       "      <th></th>\n",
       "      <th>Bus Involvement</th>\n",
       "      <th>Heavy Rigid Truck Involvement</th>\n",
       "      <th>Articulated Truck Involvement</th>\n",
       "    </tr>\n",
       "  </thead>\n",
       "  <tbody>\n",
       "    <tr>\n",
       "      <th>0</th>\n",
       "      <td>No</td>\n",
       "      <td>No</td>\n",
       "      <td>No</td>\n",
       "    </tr>\n",
       "    <tr>\n",
       "      <th>1</th>\n",
       "      <td>No</td>\n",
       "      <td>No</td>\n",
       "      <td>No</td>\n",
       "    </tr>\n",
       "    <tr>\n",
       "      <th>2</th>\n",
       "      <td>No</td>\n",
       "      <td>No</td>\n",
       "      <td>No</td>\n",
       "    </tr>\n",
       "    <tr>\n",
       "      <th>3</th>\n",
       "      <td>No</td>\n",
       "      <td>No</td>\n",
       "      <td>No</td>\n",
       "    </tr>\n",
       "    <tr>\n",
       "      <th>5</th>\n",
       "      <td>No</td>\n",
       "      <td>No</td>\n",
       "      <td>No</td>\n",
       "    </tr>\n",
       "  </tbody>\n",
       "</table>\n",
       "</div>"
      ],
      "text/plain": [
       "  Bus Involvement Heavy Rigid Truck Involvement Articulated Truck Involvement\n",
       "0              No                            No                            No\n",
       "1              No                            No                            No\n",
       "2              No                            No                            No\n",
       "3              No                            No                            No\n",
       "5              No                            No                            No"
      ]
     },
     "execution_count": 60,
     "metadata": {},
     "output_type": "execute_result"
    }
   ],
   "source": [
    "# Creating a new DataFrame named 'dim_crash' to represent the Crash dimension table.\n",
    "# This table includes vehicle involvement details extracted from the 'merged_data' DataFrame.\n",
    "\n",
    "dim_crash = pd.DataFrame({\n",
    "    \"Bus Involvement\": merged_data[\"Bus Involvement\"],  # Indicates whether a bus was involved in the crash\n",
    "    \"Heavy Rigid Truck Involvement\": merged_data[\"Heavy Rigid Truck Involvement\"],  # Indicates involvement of heavy rigid trucks\n",
    "    \"Articulated Truck Involvement\": merged_data[\"Articulated Truck Involvement\"]  # Indicates involvement of articulated trucks\n",
    "})\n",
    "\n",
    "# Displaying the first few records of the dim_crash DataFrame to verify the contents\n",
    "dim_crash.head()\n",
    "         "
   ]
  },
  {
   "cell_type": "code",
   "execution_count": 61,
   "id": "633a68db-794e-444d-a163-ed298d3b6f09",
   "metadata": {},
   "outputs": [],
   "source": [
    "# Removing duplicate rows from the 'dim_crash' DataFrame to ensure each combination of involvement types is unique\n",
    "dim_crash = dim_crash.drop_duplicates()"
   ]
  },
  {
   "cell_type": "code",
   "execution_count": 62,
   "id": "7d6ffa8a-9d63-4c47-aec0-a27e2c608ffe",
   "metadata": {},
   "outputs": [],
   "source": [
    "# Creating a new column 'Involvement ID' with unique identifiers for each record\n",
    "# This serves as the primary key for the crash dimension table\n",
    "dim_crash[\"Involvement ID\"] = range(1, len(dim_crash) + 1)"
   ]
  },
  {
   "cell_type": "code",
   "execution_count": 63,
   "id": "cd692431-5147-4dd7-8c7c-10410a4aedb7",
   "metadata": {},
   "outputs": [
    {
     "data": {
      "text/html": [
       "<div>\n",
       "<style scoped>\n",
       "    .dataframe tbody tr th:only-of-type {\n",
       "        vertical-align: middle;\n",
       "    }\n",
       "\n",
       "    .dataframe tbody tr th {\n",
       "        vertical-align: top;\n",
       "    }\n",
       "\n",
       "    .dataframe thead th {\n",
       "        text-align: right;\n",
       "    }\n",
       "</style>\n",
       "<table border=\"1\" class=\"dataframe\">\n",
       "  <thead>\n",
       "    <tr style=\"text-align: right;\">\n",
       "      <th></th>\n",
       "      <th>Involvement ID</th>\n",
       "      <th>Bus Involvement</th>\n",
       "      <th>Heavy Rigid Truck Involvement</th>\n",
       "      <th>Articulated Truck Involvement</th>\n",
       "    </tr>\n",
       "  </thead>\n",
       "  <tbody>\n",
       "    <tr>\n",
       "      <th>0</th>\n",
       "      <td>1</td>\n",
       "      <td>No</td>\n",
       "      <td>No</td>\n",
       "      <td>No</td>\n",
       "    </tr>\n",
       "    <tr>\n",
       "      <th>13</th>\n",
       "      <td>2</td>\n",
       "      <td>No</td>\n",
       "      <td>No</td>\n",
       "      <td>Yes</td>\n",
       "    </tr>\n",
       "    <tr>\n",
       "      <th>31</th>\n",
       "      <td>3</td>\n",
       "      <td>Unknown</td>\n",
       "      <td>Unknown</td>\n",
       "      <td>Unknown</td>\n",
       "    </tr>\n",
       "    <tr>\n",
       "      <th>32</th>\n",
       "      <td>4</td>\n",
       "      <td>Yes</td>\n",
       "      <td>No</td>\n",
       "      <td>Yes</td>\n",
       "    </tr>\n",
       "    <tr>\n",
       "      <th>41</th>\n",
       "      <td>5</td>\n",
       "      <td>No</td>\n",
       "      <td>Yes</td>\n",
       "      <td>No</td>\n",
       "    </tr>\n",
       "  </tbody>\n",
       "</table>\n",
       "</div>"
      ],
      "text/plain": [
       "    Involvement ID Bus Involvement Heavy Rigid Truck Involvement  \\\n",
       "0                1              No                            No   \n",
       "13               2              No                            No   \n",
       "31               3         Unknown                       Unknown   \n",
       "32               4             Yes                            No   \n",
       "41               5              No                           Yes   \n",
       "\n",
       "   Articulated Truck Involvement  \n",
       "0                             No  \n",
       "13                           Yes  \n",
       "31                       Unknown  \n",
       "32                           Yes  \n",
       "41                            No  "
      ]
     },
     "execution_count": 63,
     "metadata": {},
     "output_type": "execute_result"
    }
   ],
   "source": [
    "# Reordering the columns so that 'Involvement ID' comes first, followed by the vehicle involvement details\n",
    "dim_crash = dim_crash[[\n",
    "    \"Involvement ID\", \n",
    "    \"Bus Involvement\", \n",
    "    \"Heavy Rigid Truck Involvement\", \n",
    "    \"Articulated Truck Involvement\"\n",
    "]]\n",
    "dim_crash.head()"
   ]
  },
  {
   "cell_type": "code",
   "execution_count": 64,
   "id": "655835ff-91ba-408a-9c63-461d7b91fcff",
   "metadata": {},
   "outputs": [],
   "source": [
    "dim_crash.to_csv(\"Dim_Crash.csv\",index=False)"
   ]
  },
  {
   "cell_type": "markdown",
   "id": "db55afe4-6116-43ef-ab8c-e24db1ed340f",
   "metadata": {},
   "source": [
    "### Crash Type"
   ]
  },
  {
   "cell_type": "code",
   "execution_count": 66,
   "id": "08aaa38a-64c1-4dea-a7ee-3421c48d976d",
   "metadata": {},
   "outputs": [
    {
     "data": {
      "text/plain": [
       "Index(['Crash ID', 'State', 'Month', 'Year', 'Dayweek', 'Time', 'Crash Type',\n",
       "       'Number Fatalities', 'Bus Involvement', 'Heavy Rigid Truck Involvement',\n",
       "       'Articulated Truck Involvement', 'Speed Limit',\n",
       "       'National Remoteness Areas', 'SA4 Name 2021', 'National LGA Name 2021',\n",
       "       'National Road Type', 'Christmas Period', 'Easter Period',\n",
       "       'Day of week', 'Time of Day', 'Road User', 'Gender', 'Age',\n",
       "       'Age Group'],\n",
       "      dtype='object', name=0)"
      ]
     },
     "execution_count": 66,
     "metadata": {},
     "output_type": "execute_result"
    }
   ],
   "source": [
    "merged_data.head()\n",
    "merged_data.columns"
   ]
  },
  {
   "cell_type": "code",
   "execution_count": 67,
   "id": "5ea1ee6d-e02d-4199-8f4c-e87ab2ccacd2",
   "metadata": {},
   "outputs": [],
   "source": [
    "# Create the 'dim_crashtype' DataFrame by extracting the 'Crash Type' column from the merged_data DataFrame\n",
    "dim_crashtype = pd.DataFrame({\"Crash Type\": merged_data[\"Crash Type\"]})\n"
   ]
  },
  {
   "cell_type": "code",
   "execution_count": 68,
   "id": "a1ee13d2-ef35-43e1-9590-86fcb5285b4f",
   "metadata": {},
   "outputs": [
    {
     "data": {
      "text/html": [
       "<div>\n",
       "<style scoped>\n",
       "    .dataframe tbody tr th:only-of-type {\n",
       "        vertical-align: middle;\n",
       "    }\n",
       "\n",
       "    .dataframe tbody tr th {\n",
       "        vertical-align: top;\n",
       "    }\n",
       "\n",
       "    .dataframe thead th {\n",
       "        text-align: right;\n",
       "    }\n",
       "</style>\n",
       "<table border=\"1\" class=\"dataframe\">\n",
       "  <thead>\n",
       "    <tr style=\"text-align: right;\">\n",
       "      <th></th>\n",
       "      <th>Crash Type</th>\n",
       "      <th>Type ID</th>\n",
       "    </tr>\n",
       "  </thead>\n",
       "  <tbody>\n",
       "    <tr>\n",
       "      <th>0</th>\n",
       "      <td>Single</td>\n",
       "      <td>1</td>\n",
       "    </tr>\n",
       "    <tr>\n",
       "      <th>2</th>\n",
       "      <td>Multiple</td>\n",
       "      <td>2</td>\n",
       "    </tr>\n",
       "  </tbody>\n",
       "</table>\n",
       "</div>"
      ],
      "text/plain": [
       "  Crash Type  Type ID\n",
       "0     Single        1\n",
       "2   Multiple        2"
      ]
     },
     "execution_count": 68,
     "metadata": {},
     "output_type": "execute_result"
    }
   ],
   "source": [
    "# Remove any duplicate rows in the 'dim_crashtype' DataFrame to ensure only unique entries remain\n",
    "dim_crashtype = dim_crashtype.drop_duplicates()\n",
    "\n",
    "# Add a new column 'Type ID' with a range of numbers starting from 1 up to the length of the 'dim_crashtype' DataFrame\n",
    "dim_crashtype[\"Type ID\"] = range(1, len(dim_crashtype) + 1)\n",
    "\n",
    "# Display the updated 'dim_crashtype' DataFrame with the 'Type ID' column added\n",
    "dim_crashtype\n"
   ]
  },
  {
   "cell_type": "code",
   "execution_count": 69,
   "id": "5b397199-5275-4f99-af4f-363369bdb417",
   "metadata": {},
   "outputs": [],
   "source": [
    "# Reorder the columns in the 'dim_crashtype' DataFrame to have 'Type ID' first, followed by 'Crash Type'\n",
    "dim_crashtype = dim_crashtype[[\"Type ID\", \"Crash Type\"]]\n"
   ]
  },
  {
   "cell_type": "code",
   "execution_count": 70,
   "id": "0ab08ad7-0538-46f3-b25f-50bd6ee54197",
   "metadata": {},
   "outputs": [],
   "source": [
    "dim_crashtype.to_csv(\"Dim_CrashType.csv\",index=False)"
   ]
  },
  {
   "cell_type": "markdown",
   "id": "5a5b57fa-125e-46b7-9bc4-6453adbb91ec",
   "metadata": {},
   "source": [
    "### Road User"
   ]
  },
  {
   "cell_type": "code",
   "execution_count": 72,
   "id": "1264bc9b-33a5-4d8a-b212-2c4f50d14532",
   "metadata": {},
   "outputs": [
    {
     "data": {
      "text/plain": [
       "Index(['Crash ID', 'State', 'Month', 'Year', 'Dayweek', 'Time', 'Crash Type',\n",
       "       'Number Fatalities', 'Bus Involvement', 'Heavy Rigid Truck Involvement',\n",
       "       'Articulated Truck Involvement', 'Speed Limit',\n",
       "       'National Remoteness Areas', 'SA4 Name 2021', 'National LGA Name 2021',\n",
       "       'National Road Type', 'Christmas Period', 'Easter Period',\n",
       "       'Day of week', 'Time of Day', 'Road User', 'Gender', 'Age',\n",
       "       'Age Group'],\n",
       "      dtype='object', name=0)"
      ]
     },
     "execution_count": 72,
     "metadata": {},
     "output_type": "execute_result"
    }
   ],
   "source": [
    "merged_data.head()\n",
    "merged_data.columns"
   ]
  },
  {
   "cell_type": "code",
   "execution_count": 73,
   "id": "474e670a-c499-4d29-8714-0ce65fa86a61",
   "metadata": {},
   "outputs": [
    {
     "data": {
      "text/html": [
       "<div>\n",
       "<style scoped>\n",
       "    .dataframe tbody tr th:only-of-type {\n",
       "        vertical-align: middle;\n",
       "    }\n",
       "\n",
       "    .dataframe tbody tr th {\n",
       "        vertical-align: top;\n",
       "    }\n",
       "\n",
       "    .dataframe thead th {\n",
       "        text-align: right;\n",
       "    }\n",
       "</style>\n",
       "<table border=\"1\" class=\"dataframe\">\n",
       "  <thead>\n",
       "    <tr style=\"text-align: right;\">\n",
       "      <th></th>\n",
       "      <th>Road User</th>\n",
       "      <th>Gender</th>\n",
       "      <th>Age</th>\n",
       "      <th>Age Group</th>\n",
       "    </tr>\n",
       "  </thead>\n",
       "  <tbody>\n",
       "    <tr>\n",
       "      <th>0</th>\n",
       "      <td>Driver</td>\n",
       "      <td>Male</td>\n",
       "      <td>74</td>\n",
       "      <td>65_to_74</td>\n",
       "    </tr>\n",
       "    <tr>\n",
       "      <th>1</th>\n",
       "      <td>Driver</td>\n",
       "      <td>Female</td>\n",
       "      <td>19</td>\n",
       "      <td>17_to_25</td>\n",
       "    </tr>\n",
       "    <tr>\n",
       "      <th>2</th>\n",
       "      <td>Driver</td>\n",
       "      <td>Female</td>\n",
       "      <td>33</td>\n",
       "      <td>26_to_39</td>\n",
       "    </tr>\n",
       "    <tr>\n",
       "      <th>3</th>\n",
       "      <td>Driver</td>\n",
       "      <td>Female</td>\n",
       "      <td>32</td>\n",
       "      <td>26_to_39</td>\n",
       "    </tr>\n",
       "    <tr>\n",
       "      <th>5</th>\n",
       "      <td>Passenger</td>\n",
       "      <td>Female</td>\n",
       "      <td>61</td>\n",
       "      <td>40_to_64</td>\n",
       "    </tr>\n",
       "  </tbody>\n",
       "</table>\n",
       "</div>"
      ],
      "text/plain": [
       "   Road User  Gender Age Age Group\n",
       "0     Driver    Male  74  65_to_74\n",
       "1     Driver  Female  19  17_to_25\n",
       "2     Driver  Female  33  26_to_39\n",
       "3     Driver  Female  32  26_to_39\n",
       "5  Passenger  Female  61  40_to_64"
      ]
     },
     "execution_count": 73,
     "metadata": {},
     "output_type": "execute_result"
    }
   ],
   "source": [
    "dim_# Create the 'dim_roaduser' DataFrame by extracting columns related to 'Road User', 'Gender', 'Age', and 'Age Group' from the merged_data DataFrame\n",
    "dim_roaduser = pd.DataFrame({\"Road User\": merged_data[\"Road User\"],\n",
    "                             \"Gender\": merged_data[\"Gender\"],\n",
    "                             \"Age\": merged_data[\"Age\"],\n",
    "                             \"Age Group\": merged_data[\"Age Group\"]})\n",
    "\n",
    "# Display the first few rows of the 'dim_roaduser' DataFrame\n",
    "dim_roaduser.head()\n"
   ]
  },
  {
   "cell_type": "code",
   "execution_count": 74,
   "id": "a7898e38-45e1-4227-87af-f5a543758d37",
   "metadata": {},
   "outputs": [],
   "source": [
    "dim_roaduser=dim_roaduser.drop_duplicates()"
   ]
  },
  {
   "cell_type": "code",
   "execution_count": 75,
   "id": "c04d89b4-1977-425a-a5a9-c06c3f5d177d",
   "metadata": {},
   "outputs": [
    {
     "data": {
      "text/html": [
       "<div>\n",
       "<style scoped>\n",
       "    .dataframe tbody tr th:only-of-type {\n",
       "        vertical-align: middle;\n",
       "    }\n",
       "\n",
       "    .dataframe tbody tr th {\n",
       "        vertical-align: top;\n",
       "    }\n",
       "\n",
       "    .dataframe thead th {\n",
       "        text-align: right;\n",
       "    }\n",
       "</style>\n",
       "<table border=\"1\" class=\"dataframe\">\n",
       "  <thead>\n",
       "    <tr style=\"text-align: right;\">\n",
       "      <th></th>\n",
       "      <th>Road User</th>\n",
       "      <th>Gender</th>\n",
       "      <th>Age</th>\n",
       "      <th>Age Group</th>\n",
       "      <th>User ID</th>\n",
       "    </tr>\n",
       "  </thead>\n",
       "  <tbody>\n",
       "    <tr>\n",
       "      <th>0</th>\n",
       "      <td>Driver</td>\n",
       "      <td>Male</td>\n",
       "      <td>74</td>\n",
       "      <td>65_to_74</td>\n",
       "      <td>1</td>\n",
       "    </tr>\n",
       "    <tr>\n",
       "      <th>1</th>\n",
       "      <td>Driver</td>\n",
       "      <td>Female</td>\n",
       "      <td>19</td>\n",
       "      <td>17_to_25</td>\n",
       "      <td>2</td>\n",
       "    </tr>\n",
       "    <tr>\n",
       "      <th>2</th>\n",
       "      <td>Driver</td>\n",
       "      <td>Female</td>\n",
       "      <td>33</td>\n",
       "      <td>26_to_39</td>\n",
       "      <td>3</td>\n",
       "    </tr>\n",
       "    <tr>\n",
       "      <th>3</th>\n",
       "      <td>Driver</td>\n",
       "      <td>Female</td>\n",
       "      <td>32</td>\n",
       "      <td>26_to_39</td>\n",
       "      <td>4</td>\n",
       "    </tr>\n",
       "    <tr>\n",
       "      <th>5</th>\n",
       "      <td>Passenger</td>\n",
       "      <td>Female</td>\n",
       "      <td>61</td>\n",
       "      <td>40_to_64</td>\n",
       "      <td>5</td>\n",
       "    </tr>\n",
       "  </tbody>\n",
       "</table>\n",
       "</div>"
      ],
      "text/plain": [
       "   Road User  Gender Age Age Group  User ID\n",
       "0     Driver    Male  74  65_to_74        1\n",
       "1     Driver  Female  19  17_to_25        2\n",
       "2     Driver  Female  33  26_to_39        3\n",
       "3     Driver  Female  32  26_to_39        4\n",
       "5  Passenger  Female  61  40_to_64        5"
      ]
     },
     "execution_count": 75,
     "metadata": {},
     "output_type": "execute_result"
    }
   ],
   "source": [
    "# Add a new column 'User ID' to 'dim_roaduser', assigning unique IDs starting from 1\n",
    "dim_roaduser[\"User ID\"] = range(1, len(dim_roaduser) + 1)\n",
    "\n",
    "# Display the first few rows of the updated 'dim_roaduser' DataFrame\n",
    "dim_roaduser.head()\n"
   ]
  },
  {
   "cell_type": "code",
   "execution_count": 76,
   "id": "2366f6f1-2729-4387-9c4b-81093af3c2ea",
   "metadata": {},
   "outputs": [],
   "source": [
    "dim_roaduser=dim_roaduser[[\"User ID\",\"Road User\",\"Gender\",\"Age\",\"Age Group\"]]"
   ]
  },
  {
   "cell_type": "code",
   "execution_count": 77,
   "id": "be0947b6-a964-4541-8f7a-8d480c2b8c4e",
   "metadata": {},
   "outputs": [],
   "source": [
    "dim_roaduser.to_csv(\"Dim_User.csv\",index=False) "
   ]
  },
  {
   "cell_type": "markdown",
   "id": "bac3c6a0-87d7-4a98-a0a4-670971c98451",
   "metadata": {},
   "source": [
    "### Speed Dimension"
   ]
  },
  {
   "cell_type": "code",
   "execution_count": 79,
   "id": "9d20fbd8-8222-4d25-868c-cad9a0483eb8",
   "metadata": {},
   "outputs": [
    {
     "data": {
      "text/plain": [
       "Index(['Crash ID', 'State', 'Month', 'Year', 'Dayweek', 'Time', 'Crash Type',\n",
       "       'Number Fatalities', 'Bus Involvement', 'Heavy Rigid Truck Involvement',\n",
       "       'Articulated Truck Involvement', 'Speed Limit',\n",
       "       'National Remoteness Areas', 'SA4 Name 2021', 'National LGA Name 2021',\n",
       "       'National Road Type', 'Christmas Period', 'Easter Period',\n",
       "       'Day of week', 'Time of Day', 'Road User', 'Gender', 'Age',\n",
       "       'Age Group'],\n",
       "      dtype='object', name=0)"
      ]
     },
     "execution_count": 79,
     "metadata": {},
     "output_type": "execute_result"
    }
   ],
   "source": [
    "merged_data.head()\n",
    "merged_data.columns"
   ]
  },
  {
   "cell_type": "code",
   "execution_count": 80,
   "id": "cb6921ad-b523-4a5d-b1b1-2ceac314dae0",
   "metadata": {},
   "outputs": [],
   "source": [
    "# Create the 'dim_speed' DataFrame by extracting the 'Speed Limit' column from the merged_data DataFrame\n",
    "dim_speed = pd.DataFrame({\"Speed Limit\": merged_data[\"Speed Limit\"]})\n"
   ]
  },
  {
   "cell_type": "code",
   "execution_count": 81,
   "id": "9e3cea31-3200-430b-9cc8-a697a6336421",
   "metadata": {},
   "outputs": [],
   "source": [
    "# Remove duplicate entries from the 'dim_speed' DataFrame to ensure unique values for 'Speed Limit'\n",
    "dim_speed = dim_speed.drop_duplicates()\n"
   ]
  },
  {
   "cell_type": "code",
   "execution_count": 82,
   "id": "47312c15-c10a-4d9c-84cc-d5e3bae775d8",
   "metadata": {},
   "outputs": [],
   "source": [
    "# Add a new column 'Speed ID' to 'dim_speed', assigning unique IDs starting from 1\n",
    "dim_speed[\"Speed ID\"] = range(1, len(dim_speed) + 1)\n"
   ]
  },
  {
   "cell_type": "code",
   "execution_count": 83,
   "id": "a6db1734-57e3-447b-98cb-7a54b41fe482",
   "metadata": {},
   "outputs": [],
   "source": [
    "dim_speed=dim_speed[[\"Speed ID\",\"Speed Limit\"]]\n",
    "dim_speed.to_csv(\"Dim_Speed.csv\",index=False)"
   ]
  },
  {
   "cell_type": "markdown",
   "id": "706fa9ed-d684-4cce-8e9a-d17c110f9f7b",
   "metadata": {},
   "source": [
    "### Fact Table"
   ]
  },
  {
   "cell_type": "code",
   "execution_count": 85,
   "id": "dd6ad9d4-e6fc-43d8-93f1-f56306034e40",
   "metadata": {},
   "outputs": [
    {
     "data": {
      "text/plain": [
       "Index(['Location ID', 'State', 'National Remoteness Areas', 'SA4 Name 2021',\n",
       "       'National LGA Name 2021'],\n",
       "      dtype='object')"
      ]
     },
     "execution_count": 85,
     "metadata": {},
     "output_type": "execute_result"
    }
   ],
   "source": [
    "dim_location.columns"
   ]
  },
  {
   "cell_type": "code",
   "execution_count": 86,
   "id": "d137c71e-854a-4a97-8381-bc7846b4a8e4",
   "metadata": {},
   "outputs": [],
   "source": [
    "# Creating a consolidated dataset 'Merged_Data' by merging the base 'merged_data' DataFrame \n",
    "# with all the dimensional tables using their respective primary keys and unique attributes.\n",
    "\n",
    "Merged_Data = (\n",
    "    merged_data\n",
    "    # Merging with dim_location using location-related attributes to get 'Location ID'\n",
    "    .merge(dim_location[[\"Location ID\", \"State\", \"National Remoteness Areas\", \"SA4 Name 2021\", \"National LGA Name 2021\"]], \n",
    "           on=[\"State\", \"National Remoteness Areas\", \"SA4 Name 2021\", \"National LGA Name 2021\"], \n",
    "           how=\"left\")\n",
    "    \n",
    "    # Merging with dim_road on 'National Road Type' to bring in 'Road ID'\n",
    "    .merge(dim_road[[\"Road ID\", \"National Road Type\"]], \n",
    "           on=\"National Road Type\", \n",
    "           how=\"left\")\n",
    "    \n",
    "    # Merging with dim_date using temporal attributes to attach 'Date ID'\n",
    "    .merge(dim_date[[\"Date ID\", \"Month\", \"Year\", \"Dayweek\"]], \n",
    "           on=[\"Month\", \"Year\", \"Dayweek\"], \n",
    "           how=\"left\")\n",
    "    \n",
    "    # Merging with dim_roaduser based on user characteristics to add 'User ID'\n",
    "    .merge(dim_roaduser[[\"User ID\", \"Road User\", \"Gender\", \"Age\"]], \n",
    "           on=[\"Road User\", \"Gender\", \"Age\"], \n",
    "           how=\"left\")\n",
    "    \n",
    "    # Merging with dim_period using day and time data to include 'Period ID'\n",
    "    .merge(dim_period[[\"Period ID\", \"Day of week\", \"Time of Day\"]], \n",
    "           on=[\"Day of week\", \"Time of Day\"], \n",
    "           how=\"left\")\n",
    "    \n",
    "    # Merging with dim_Vacation using holiday periods to attach 'Vacation ID'\n",
    "    .merge(dim_Vacation[[\"Vacation ID\", \"Easter Period\", \"Christmas Period\"]], \n",
    "           on=[\"Easter Period\", \"Christmas Period\"], \n",
    "           how=\"left\")\n",
    "    \n",
    "    # Merging with dim_crashtype using 'Crash Type' to bring in 'Type ID'\n",
    "    .merge(dim_crashtype[[\"Type ID\", \"Crash Type\"]], \n",
    "           on=\"Crash Type\", \n",
    "           how=\"left\")\n",
    "    \n",
    "    # Merging with dim_speed based on 'Speed Limit' to add 'Speed ID'\n",
    "    .merge(dim_speed[[\"Speed ID\", \"Speed Limit\"]], \n",
    "           on=\"Speed Limit\", \n",
    "           how=\"left\")\n",
    "    \n",
    "    # Final merge with dim_crash using all involvement attributes to include 'Involvement ID'\n",
    "    # 'inner' join is used here to ensure only matched crash involvement records are retained\n",
    "    .merge(dim_crash[[\"Involvement ID\", \"Bus Involvement\", \"Heavy Rigid Truck Involvement\", \"Articulated Truck Involvement\"]], \n",
    "           on=[\"Bus Involvement\", \"Heavy Rigid Truck Involvement\", \"Articulated Truck Involvement\"], \n",
    "           how=\"inner\")\n",
    ")\n"
   ]
  },
  {
   "cell_type": "code",
   "execution_count": 87,
   "id": "b7544393-5700-4ee6-abd7-7cf36dbda91a",
   "metadata": {},
   "outputs": [],
   "source": [
    "# Exporting the final merged dataset to a CSV file named 'Merged_Data_All.csv'\n",
    "# Setting index=False to avoid writing the DataFrame index as a separate column in the CSV file\n",
    "Merged_Data.to_csv(\"Merged_Data_All.csv\", index=False)\n"
   ]
  },
  {
   "cell_type": "code",
   "execution_count": 88,
   "id": "f188e065-dd67-4b02-a5ab-4b8dbb9dcc21",
   "metadata": {},
   "outputs": [
    {
     "data": {
      "text/plain": [
       "Index(['Crash ID', 'State', 'Month', 'Year', 'Dayweek', 'Time', 'Crash Type',\n",
       "       'Number Fatalities', 'Bus Involvement', 'Heavy Rigid Truck Involvement',\n",
       "       'Articulated Truck Involvement', 'Speed Limit',\n",
       "       'National Remoteness Areas', 'SA4 Name 2021', 'National LGA Name 2021',\n",
       "       'National Road Type', 'Christmas Period', 'Easter Period',\n",
       "       'Day of week', 'Time of Day', 'Road User', 'Gender', 'Age', 'Age Group',\n",
       "       'Location ID', 'Road ID', 'Date ID', 'User ID', 'Period ID',\n",
       "       'Vacation ID', 'Type ID', 'Speed ID', 'Involvement ID'],\n",
       "      dtype='object')"
      ]
     },
     "execution_count": 88,
     "metadata": {},
     "output_type": "execute_result"
    }
   ],
   "source": [
    "Merged_Data.columns"
   ]
  },
  {
   "cell_type": "markdown",
   "id": "7f7e1f56-2cd6-468e-8243-fd4d736946bb",
   "metadata": {},
   "source": [
    "### FACT TABLE"
   ]
  },
  {
   "cell_type": "code",
   "execution_count": 90,
   "id": "448f022a-9af0-4ce2-b7fc-b045add5332c",
   "metadata": {},
   "outputs": [],
   "source": [
    "# Creating the Fact Table for the star schema model\n",
    "\n",
    "Fact_Table = pd.DataFrame({\n",
    "    \"Fact ID\": range(1, 1 + len(Merged_Data)), # Generating a unique Fact ID for each record (acts as the primary key of the fact table) \n",
    "    \"Crash ID\": Merged_Data[\"Crash ID\"], # Including Crash ID from the merged dataset (could act as a business key\n",
    "    \"Time\": Merged_Data[\"Time\"],  # Time of the crash (not from the date dimension but kept for detailed granularity)\n",
    "    \"Number Fatalities\": Merged_Data[\"Number Fatalities\"], # The measure in the fact table: number of fatalities in each crash\n",
    "    # Foreign keys linking to the respective dimension tables:\n",
    "    \"Location ID\": Merged_Data[\"Location ID\"],  # References the dim_location table\n",
    "    \"Road ID\": Merged_Data[\"Road ID\"],  # References the dim_road table\n",
    "    \"Date ID\": Merged_Data[\"Date ID\"],  # References the dim_date table\n",
    "    \"User ID\": Merged_Data[\"User ID\"],  # References the dim_roaduser table\n",
    "    \"Period ID\": Merged_Data[\"Period ID\"],  # References the dim_period table\n",
    "    \"Vacation ID\": Merged_Data[\"Vacation ID\"],  # References the dim_Vacation table\n",
    "    \"Type ID\": Merged_Data[\"Type ID\"],  # References the dim_crashtype table\n",
    "    \"Speed ID\": Merged_Data[\"Speed ID\"],  # References the dim_speed table\n",
    "    \"Involvement ID\": Merged_Data[\"Involvement ID\"]  # References the dim_crash table\n",
    "})\n"
   ]
  },
  {
   "cell_type": "code",
   "execution_count": 91,
   "id": "6263e997-8b23-4288-bfb2-91167bfa3362",
   "metadata": {},
   "outputs": [],
   "source": [
    "Fact_Table.to_csv(\"Fact_Table.csv\",index=False)"
   ]
  },
  {
   "cell_type": "code",
   "execution_count": 92,
   "id": "a300e4ca-622a-41b0-a7d0-a4d7b2fbaa5b",
   "metadata": {},
   "outputs": [
    {
     "data": {
      "text/html": [
       "<div>\n",
       "<style scoped>\n",
       "    .dataframe tbody tr th:only-of-type {\n",
       "        vertical-align: middle;\n",
       "    }\n",
       "\n",
       "    .dataframe tbody tr th {\n",
       "        vertical-align: top;\n",
       "    }\n",
       "\n",
       "    .dataframe thead th {\n",
       "        text-align: right;\n",
       "    }\n",
       "</style>\n",
       "<table border=\"1\" class=\"dataframe\">\n",
       "  <thead>\n",
       "    <tr style=\"text-align: right;\">\n",
       "      <th></th>\n",
       "      <th>Fact ID</th>\n",
       "      <th>Crash ID</th>\n",
       "      <th>Time</th>\n",
       "      <th>Number Fatalities</th>\n",
       "      <th>Location ID</th>\n",
       "      <th>Road ID</th>\n",
       "      <th>Date ID</th>\n",
       "      <th>User ID</th>\n",
       "      <th>Period ID</th>\n",
       "      <th>Vacation ID</th>\n",
       "      <th>Type ID</th>\n",
       "      <th>Speed ID</th>\n",
       "      <th>Involvement ID</th>\n",
       "    </tr>\n",
       "  </thead>\n",
       "  <tbody>\n",
       "    <tr>\n",
       "      <th>0</th>\n",
       "      <td>1</td>\n",
       "      <td>20241115</td>\n",
       "      <td>04:00:00</td>\n",
       "      <td>1</td>\n",
       "      <td>1</td>\n",
       "      <td>1</td>\n",
       "      <td>1</td>\n",
       "      <td>1</td>\n",
       "      <td>1</td>\n",
       "      <td>1</td>\n",
       "      <td>1</td>\n",
       "      <td>1</td>\n",
       "      <td>1</td>\n",
       "    </tr>\n",
       "    <tr>\n",
       "      <th>1</th>\n",
       "      <td>2</td>\n",
       "      <td>20241125</td>\n",
       "      <td>06:15:00</td>\n",
       "      <td>1</td>\n",
       "      <td>2</td>\n",
       "      <td>2</td>\n",
       "      <td>1</td>\n",
       "      <td>2</td>\n",
       "      <td>2</td>\n",
       "      <td>2</td>\n",
       "      <td>1</td>\n",
       "      <td>2</td>\n",
       "      <td>1</td>\n",
       "    </tr>\n",
       "    <tr>\n",
       "      <th>2</th>\n",
       "      <td>3</td>\n",
       "      <td>20246013</td>\n",
       "      <td>09:43:00</td>\n",
       "      <td>1</td>\n",
       "      <td>3</td>\n",
       "      <td>2</td>\n",
       "      <td>1</td>\n",
       "      <td>3</td>\n",
       "      <td>2</td>\n",
       "      <td>1</td>\n",
       "      <td>2</td>\n",
       "      <td>3</td>\n",
       "      <td>1</td>\n",
       "    </tr>\n",
       "    <tr>\n",
       "      <th>3</th>\n",
       "      <td>4</td>\n",
       "      <td>20241002</td>\n",
       "      <td>10:35:00</td>\n",
       "      <td>1</td>\n",
       "      <td>4</td>\n",
       "      <td>3</td>\n",
       "      <td>1</td>\n",
       "      <td>4</td>\n",
       "      <td>2</td>\n",
       "      <td>2</td>\n",
       "      <td>2</td>\n",
       "      <td>1</td>\n",
       "      <td>1</td>\n",
       "    </tr>\n",
       "    <tr>\n",
       "      <th>4</th>\n",
       "      <td>5</td>\n",
       "      <td>20243185</td>\n",
       "      <td>13:00:00</td>\n",
       "      <td>1</td>\n",
       "      <td>5</td>\n",
       "      <td>3</td>\n",
       "      <td>1</td>\n",
       "      <td>5</td>\n",
       "      <td>2</td>\n",
       "      <td>2</td>\n",
       "      <td>2</td>\n",
       "      <td>1</td>\n",
       "      <td>1</td>\n",
       "    </tr>\n",
       "  </tbody>\n",
       "</table>\n",
       "</div>"
      ],
      "text/plain": [
       "   Fact ID  Crash ID      Time  Number Fatalities  Location ID  Road ID  \\\n",
       "0        1  20241115  04:00:00                  1            1        1   \n",
       "1        2  20241125  06:15:00                  1            2        2   \n",
       "2        3  20246013  09:43:00                  1            3        2   \n",
       "3        4  20241002  10:35:00                  1            4        3   \n",
       "4        5  20243185  13:00:00                  1            5        3   \n",
       "\n",
       "   Date ID  User ID  Period ID  Vacation ID  Type ID  Speed ID  Involvement ID  \n",
       "0        1        1          1            1        1         1               1  \n",
       "1        1        2          2            2        1         2               1  \n",
       "2        1        3          2            1        2         3               1  \n",
       "3        1        4          2            2        2         1               1  \n",
       "4        1        5          2            2        2         1               1  "
      ]
     },
     "execution_count": 92,
     "metadata": {},
     "output_type": "execute_result"
    }
   ],
   "source": [
    "Fact_Table.head()"
   ]
  }
 ],
 "metadata": {
  "kernelspec": {
   "display_name": "Python 3 (ipykernel)",
   "language": "python",
   "name": "python3"
  },
  "language_info": {
   "codemirror_mode": {
    "name": "ipython",
    "version": 3
   },
   "file_extension": ".py",
   "mimetype": "text/x-python",
   "name": "python",
   "nbconvert_exporter": "python",
   "pygments_lexer": "ipython3",
   "version": "3.12.4"
  }
 },
 "nbformat": 4,
 "nbformat_minor": 5
}
