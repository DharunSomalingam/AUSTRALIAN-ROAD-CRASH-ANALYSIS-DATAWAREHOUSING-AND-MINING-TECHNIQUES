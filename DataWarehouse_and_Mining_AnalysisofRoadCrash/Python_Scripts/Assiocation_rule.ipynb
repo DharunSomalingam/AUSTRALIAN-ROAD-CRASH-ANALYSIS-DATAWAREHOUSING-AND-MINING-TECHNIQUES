{
 "cells": [
  {
   "cell_type": "code",
   "execution_count": 1,
   "id": "1d9e15eb-b0fd-4fdc-bdfd-201a7882af1f",
   "metadata": {},
   "outputs": [
    {
     "name": "stdout",
     "output_type": "stream",
     "text": [
      "Requirement already satisfied: mlxtend in /opt/anaconda3/lib/python3.12/site-packages (0.23.4)\n",
      "Requirement already satisfied: scipy>=1.2.1 in /opt/anaconda3/lib/python3.12/site-packages (from mlxtend) (1.13.1)\n",
      "Requirement already satisfied: numpy>=1.16.2 in /opt/anaconda3/lib/python3.12/site-packages (from mlxtend) (1.26.4)\n",
      "Requirement already satisfied: pandas>=0.24.2 in /opt/anaconda3/lib/python3.12/site-packages (from mlxtend) (2.2.2)\n",
      "Requirement already satisfied: scikit-learn>=1.3.1 in /opt/anaconda3/lib/python3.12/site-packages (from mlxtend) (1.4.2)\n",
      "Requirement already satisfied: matplotlib>=3.0.0 in /opt/anaconda3/lib/python3.12/site-packages (from mlxtend) (3.8.4)\n",
      "Requirement already satisfied: joblib>=0.13.2 in /opt/anaconda3/lib/python3.12/site-packages (from mlxtend) (1.4.2)\n",
      "Requirement already satisfied: contourpy>=1.0.1 in /opt/anaconda3/lib/python3.12/site-packages (from matplotlib>=3.0.0->mlxtend) (1.2.0)\n",
      "Requirement already satisfied: cycler>=0.10 in /opt/anaconda3/lib/python3.12/site-packages (from matplotlib>=3.0.0->mlxtend) (0.11.0)\n",
      "Requirement already satisfied: fonttools>=4.22.0 in /opt/anaconda3/lib/python3.12/site-packages (from matplotlib>=3.0.0->mlxtend) (4.51.0)\n",
      "Requirement already satisfied: kiwisolver>=1.3.1 in /opt/anaconda3/lib/python3.12/site-packages (from matplotlib>=3.0.0->mlxtend) (1.4.4)\n",
      "Requirement already satisfied: packaging>=20.0 in /opt/anaconda3/lib/python3.12/site-packages (from matplotlib>=3.0.0->mlxtend) (23.2)\n",
      "Requirement already satisfied: pillow>=8 in /opt/anaconda3/lib/python3.12/site-packages (from matplotlib>=3.0.0->mlxtend) (10.3.0)\n",
      "Requirement already satisfied: pyparsing>=2.3.1 in /opt/anaconda3/lib/python3.12/site-packages (from matplotlib>=3.0.0->mlxtend) (3.0.9)\n",
      "Requirement already satisfied: python-dateutil>=2.7 in /opt/anaconda3/lib/python3.12/site-packages (from matplotlib>=3.0.0->mlxtend) (2.9.0.post0)\n",
      "Requirement already satisfied: pytz>=2020.1 in /opt/anaconda3/lib/python3.12/site-packages (from pandas>=0.24.2->mlxtend) (2024.1)\n",
      "Requirement already satisfied: tzdata>=2022.7 in /opt/anaconda3/lib/python3.12/site-packages (from pandas>=0.24.2->mlxtend) (2023.3)\n",
      "Requirement already satisfied: threadpoolctl>=2.0.0 in /opt/anaconda3/lib/python3.12/site-packages (from scikit-learn>=1.3.1->mlxtend) (2.2.0)\n",
      "Requirement already satisfied: six>=1.5 in /opt/anaconda3/lib/python3.12/site-packages (from python-dateutil>=2.7->matplotlib>=3.0.0->mlxtend) (1.16.0)\n",
      "Note: you may need to restart the kernel to use updated packages.\n"
     ]
    }
   ],
   "source": [
    "pip install mlxtend"
   ]
  },
  {
   "cell_type": "code",
   "execution_count": 2,
   "id": "fbd6bf7f-fb86-4a4a-8a6c-c1a3c6faafa8",
   "metadata": {},
   "outputs": [],
   "source": [
    "#Import necessary libraries, pandas, numpy and mlxtend\n",
    "import pandas as pd\n",
    "import numpy as np\n",
    "import mlxtend\n",
    "from mlxtend.preprocessing import TransactionEncoder\n",
    "from mlxtend.frequent_patterns import apriori\n",
    "from mlxtend.frequent_patterns import association_rules"
   ]
  },
  {
   "cell_type": "code",
   "execution_count": 3,
   "id": "89feb5a3-6018-461a-a418-581b0b4c154f",
   "metadata": {},
   "outputs": [],
   "source": [
    "data=pd.read_csv(\"merged_data.csv\")"
   ]
  },
  {
   "cell_type": "code",
   "execution_count": 4,
   "id": "bdd3efaa-6cda-4084-8ff3-9072a7839c75",
   "metadata": {},
   "outputs": [
    {
     "data": {
      "text/plain": [
       "'/Users/dharunsomalingam/Documents/Semester_5/CITS3401/Project'"
      ]
     },
     "execution_count": 4,
     "metadata": {},
     "output_type": "execute_result"
    }
   ],
   "source": [
    "#Check your current working directory\n",
    "import os\n",
    "os.getcwd()\n",
    "\n",
    "#If you need to change your current working directory, you can\n"
   ]
  },
  {
   "cell_type": "code",
   "execution_count": 5,
   "id": "aef81c5a-dd7a-4548-98e3-b8aecf0636eb",
   "metadata": {},
   "outputs": [],
   "source": [
    "df=data[[\"Crash Type\",\"Speed Limit\",\"Gender\",\"Road User\",\"Age Group\",\"Time of Day\"]]"
   ]
  },
  {
   "cell_type": "code",
   "execution_count": 6,
   "id": "ef72f8c4-be1f-4796-b1b1-105797f58e6a",
   "metadata": {},
   "outputs": [],
   "source": [
    "new_df = df.astype(str)"
   ]
  },
  {
   "cell_type": "code",
   "execution_count": 7,
   "id": "c0c3b3ec-772b-46f3-9d55-44fc069229a4",
   "metadata": {},
   "outputs": [
    {
     "data": {
      "text/plain": [
       "Crash Type     object\n",
       "Speed Limit    object\n",
       "Gender         object\n",
       "Road User      object\n",
       "Age Group      object\n",
       "Time of Day    object\n",
       "dtype: object"
      ]
     },
     "execution_count": 7,
     "metadata": {},
     "output_type": "execute_result"
    }
   ],
   "source": [
    "new_df.dtypes"
   ]
  },
  {
   "cell_type": "code",
   "execution_count": 8,
   "id": "c8032d5c-8db6-4245-898b-fa1cd3421515",
   "metadata": {},
   "outputs": [],
   "source": [
    "list = new_df.values.tolist()\n",
    "\n",
    "#Covert the list to one-hot encoded boolean numpy array. \n",
    "#Apriori function allows boolean data type only, such as 1 and 0, or FALSE and TRUE.\n",
    "te = TransactionEncoder()\n",
    "array_te = te.fit(list).transform(list)\n",
    "\n",
    "#Check the array\n",
    "array_te\n",
    "\n",
    "#Check the colunms\n",
    "te.columns_\n",
    "\n",
    "#Apriori function can handle dataframe only, covert the array to a dataframe\n",
    "arm_df = pd.DataFrame(array_te, columns = te.columns_)"
   ]
  },
  {
   "cell_type": "code",
   "execution_count": 9,
   "id": "e866aef8-1c74-4e66-b439-d2ae7954af3f",
   "metadata": {},
   "outputs": [
    {
     "data": {
      "text/html": [
       "<div>\n",
       "<style scoped>\n",
       "    .dataframe tbody tr th:only-of-type {\n",
       "        vertical-align: middle;\n",
       "    }\n",
       "\n",
       "    .dataframe tbody tr th {\n",
       "        vertical-align: top;\n",
       "    }\n",
       "\n",
       "    .dataframe thead th {\n",
       "        text-align: right;\n",
       "    }\n",
       "</style>\n",
       "<table border=\"1\" class=\"dataframe\">\n",
       "  <thead>\n",
       "    <tr style=\"text-align: right;\">\n",
       "      <th></th>\n",
       "      <th>support</th>\n",
       "      <th>itemsets</th>\n",
       "      <th>length</th>\n",
       "    </tr>\n",
       "  </thead>\n",
       "  <tbody>\n",
       "    <tr>\n",
       "      <th>167</th>\n",
       "      <td>0.382019</td>\n",
       "      <td>(Male, Day)</td>\n",
       "      <td>2</td>\n",
       "    </tr>\n",
       "    <tr>\n",
       "      <th>169</th>\n",
       "      <td>0.306315</td>\n",
       "      <td>(Day, Multiple)</td>\n",
       "      <td>2</td>\n",
       "    </tr>\n",
       "    <tr>\n",
       "      <th>175</th>\n",
       "      <td>0.342553</td>\n",
       "      <td>(Male, Driver)</td>\n",
       "      <td>2</td>\n",
       "    </tr>\n",
       "    <tr>\n",
       "      <th>185</th>\n",
       "      <td>0.306769</td>\n",
       "      <td>(Male, Multiple)</td>\n",
       "      <td>2</td>\n",
       "    </tr>\n",
       "    <tr>\n",
       "      <th>186</th>\n",
       "      <td>0.336024</td>\n",
       "      <td>(Male, Night)</td>\n",
       "      <td>2</td>\n",
       "    </tr>\n",
       "    <tr>\n",
       "      <th>190</th>\n",
       "      <td>0.411691</td>\n",
       "      <td>(Male, Single)</td>\n",
       "      <td>2</td>\n",
       "    </tr>\n",
       "  </tbody>\n",
       "</table>\n",
       "</div>"
      ],
      "text/plain": [
       "      support          itemsets  length\n",
       "167  0.382019       (Male, Day)       2\n",
       "169  0.306315   (Day, Multiple)       2\n",
       "175  0.342553    (Male, Driver)       2\n",
       "185  0.306769  (Male, Multiple)       2\n",
       "186  0.336024     (Male, Night)       2\n",
       "190  0.411691    (Male, Single)       2"
      ]
     },
     "execution_count": 9,
     "metadata": {},
     "output_type": "execute_result"
    }
   ],
   "source": [
    "#Find the frequent itemsets\n",
    "frequent_itemsets = apriori(arm_df,min_support=0.01,use_colnames =True)\n",
    "#Check the length of rules\n",
    "frequent_itemsets['length']=frequent_itemsets['itemsets'].apply(lambda x: len(x))\n",
    "\n",
    "#Assume the length is 2 and the min support is >= 0.3\n",
    "frequent_itemsets[ (frequent_itemsets['length']==2) & \n",
    "                  (frequent_itemsets['support']>=0.3)]\n"
   ]
  },
  {
   "cell_type": "code",
   "execution_count": 10,
   "id": "d580eae3-8b61-4918-943d-03e7c08b150b",
   "metadata": {},
   "outputs": [],
   "source": [
    "#Assume the min confidence is 0.5\n",
    "rules_con = association_rules(frequent_itemsets, metric=\"confidence\",min_threshold=0.7)"
   ]
  },
  {
   "cell_type": "code",
   "execution_count": 11,
   "id": "41536a7e-3956-4b8c-b47f-682423b57e21",
   "metadata": {},
   "outputs": [],
   "source": [
    "# Generate association rules based on the 'lift' metric with a minimum lift threshold of 1\n",
    "# The 'frequent_itemsets' object contains the frequent itemsets obtained from a previous step\n",
    "rules_lift = association_rules(frequent_itemsets, metric=\"lift\", min_threshold=1)\n"
   ]
  },
  {
   "cell_type": "code",
   "execution_count": 12,
   "id": "baafddc3-eaf5-4913-aa42-afe8f84d46b4",
   "metadata": {},
   "outputs": [],
   "source": [
    "# Define a list of road users\n",
    "road_users = ['Driver','Passenger', 'Motorcycle rider', 'Pedestrian', 'Pedal cyclist', 'Motorcycle pillion passenger']\n",
    "\n",
    "# Filter the 'rules_con' dataframe to only include rows where the consequents contain any of the road users\n",
    "filtered_rules = rules_con[rules_con['consequents'].apply(\n",
    "    lambda x: any(item in x for item in road_users))]  # Check if any item in the 'consequents' matches a road user\n"
   ]
  },
  {
   "cell_type": "code",
   "execution_count": 13,
   "id": "e6c1bda0-c7ff-4d8b-a84a-d7c593538872",
   "metadata": {},
   "outputs": [],
   "source": [
    "# Select the relevant columns from the filtered rules to focus on the antecedents, consequents, support, confidence, and lift values\n",
    "result_arm = filtered_rules[['antecedents', 'consequents', 'support', 'confidence', 'lift']]  # Extract specific columns\n"
   ]
  },
  {
   "cell_type": "code",
   "execution_count": 14,
   "id": "850416b9-4e79-4627-a20b-d70f2862b366",
   "metadata": {},
   "outputs": [
    {
     "data": {
      "text/html": [
       "<div>\n",
       "<style scoped>\n",
       "    .dataframe tbody tr th:only-of-type {\n",
       "        vertical-align: middle;\n",
       "    }\n",
       "\n",
       "    .dataframe tbody tr th {\n",
       "        vertical-align: top;\n",
       "    }\n",
       "\n",
       "    .dataframe thead th {\n",
       "        text-align: right;\n",
       "    }\n",
       "</style>\n",
       "<table border=\"1\" class=\"dataframe\">\n",
       "  <thead>\n",
       "    <tr style=\"text-align: right;\">\n",
       "      <th></th>\n",
       "      <th>antecedents</th>\n",
       "      <th>consequents</th>\n",
       "      <th>support</th>\n",
       "      <th>confidence</th>\n",
       "      <th>lift</th>\n",
       "    </tr>\n",
       "  </thead>\n",
       "  <tbody>\n",
       "    <tr>\n",
       "      <th>20</th>\n",
       "      <td>(100, 0_to_16)</td>\n",
       "      <td>(Passenger)</td>\n",
       "      <td>0.019080</td>\n",
       "      <td>0.761216</td>\n",
       "      <td>3.424197</td>\n",
       "    </tr>\n",
       "    <tr>\n",
       "      <th>154</th>\n",
       "      <td>(Day, 100, 0_to_16)</td>\n",
       "      <td>(Passenger)</td>\n",
       "      <td>0.012569</td>\n",
       "      <td>0.762376</td>\n",
       "      <td>3.429418</td>\n",
       "    </tr>\n",
       "    <tr>\n",
       "      <th>179</th>\n",
       "      <td>(Male, 65_to_74, 100)</td>\n",
       "      <td>(Driver)</td>\n",
       "      <td>0.012442</td>\n",
       "      <td>0.710881</td>\n",
       "      <td>1.561808</td>\n",
       "    </tr>\n",
       "    <tr>\n",
       "      <th>184</th>\n",
       "      <td>(Male, 75_or_older, 100)</td>\n",
       "      <td>(Driver)</td>\n",
       "      <td>0.010900</td>\n",
       "      <td>0.758838</td>\n",
       "      <td>1.667171</td>\n",
       "    </tr>\n",
       "    <tr>\n",
       "      <th>327</th>\n",
       "      <td>(Single, 65_to_74, 60)</td>\n",
       "      <td>(Pedestrian)</td>\n",
       "      <td>0.011027</td>\n",
       "      <td>0.794771</td>\n",
       "      <td>5.157174</td>\n",
       "    </tr>\n",
       "    <tr>\n",
       "      <th>334</th>\n",
       "      <td>(Single, 75_or_older, 60)</td>\n",
       "      <td>(Pedestrian)</td>\n",
       "      <td>0.019425</td>\n",
       "      <td>0.832168</td>\n",
       "      <td>5.399836</td>\n",
       "    </tr>\n",
       "    <tr>\n",
       "      <th>382</th>\n",
       "      <td>(Male, 75_or_older, Multiple)</td>\n",
       "      <td>(Driver)</td>\n",
       "      <td>0.019842</td>\n",
       "      <td>0.717848</td>\n",
       "      <td>1.577114</td>\n",
       "    </tr>\n",
       "    <tr>\n",
       "      <th>443</th>\n",
       "      <td>(Male, Day, 65_to_74, 100)</td>\n",
       "      <td>(Driver)</td>\n",
       "      <td>0.010030</td>\n",
       "      <td>0.710797</td>\n",
       "      <td>1.561623</td>\n",
       "    </tr>\n",
       "    <tr>\n",
       "      <th>511</th>\n",
       "      <td>(Day, 75_or_older, Single, 60)</td>\n",
       "      <td>(Pedestrian)</td>\n",
       "      <td>0.014582</td>\n",
       "      <td>0.812121</td>\n",
       "      <td>5.269756</td>\n",
       "    </tr>\n",
       "    <tr>\n",
       "      <th>515</th>\n",
       "      <td>(Male, Single, 75_or_older, 60)</td>\n",
       "      <td>(Pedestrian)</td>\n",
       "      <td>0.011825</td>\n",
       "      <td>0.827411</td>\n",
       "      <td>5.368970</td>\n",
       "    </tr>\n",
       "    <tr>\n",
       "      <th>520</th>\n",
       "      <td>(Day, Single, Female, 60)</td>\n",
       "      <td>(Pedestrian)</td>\n",
       "      <td>0.016378</td>\n",
       "      <td>0.714399</td>\n",
       "      <td>4.635647</td>\n",
       "    </tr>\n",
       "    <tr>\n",
       "      <th>533</th>\n",
       "      <td>(Male, Day, 75_or_older, Multiple)</td>\n",
       "      <td>(Driver)</td>\n",
       "      <td>0.017883</td>\n",
       "      <td>0.726068</td>\n",
       "      <td>1.595173</td>\n",
       "    </tr>\n",
       "  </tbody>\n",
       "</table>\n",
       "</div>"
      ],
      "text/plain": [
       "                            antecedents   consequents   support  confidence  \\\n",
       "20                       (100, 0_to_16)   (Passenger)  0.019080    0.761216   \n",
       "154                 (Day, 100, 0_to_16)   (Passenger)  0.012569    0.762376   \n",
       "179               (Male, 65_to_74, 100)      (Driver)  0.012442    0.710881   \n",
       "184            (Male, 75_or_older, 100)      (Driver)  0.010900    0.758838   \n",
       "327              (Single, 65_to_74, 60)  (Pedestrian)  0.011027    0.794771   \n",
       "334           (Single, 75_or_older, 60)  (Pedestrian)  0.019425    0.832168   \n",
       "382       (Male, 75_or_older, Multiple)      (Driver)  0.019842    0.717848   \n",
       "443          (Male, Day, 65_to_74, 100)      (Driver)  0.010030    0.710797   \n",
       "511      (Day, 75_or_older, Single, 60)  (Pedestrian)  0.014582    0.812121   \n",
       "515     (Male, Single, 75_or_older, 60)  (Pedestrian)  0.011825    0.827411   \n",
       "520           (Day, Single, Female, 60)  (Pedestrian)  0.016378    0.714399   \n",
       "533  (Male, Day, 75_or_older, Multiple)      (Driver)  0.017883    0.726068   \n",
       "\n",
       "         lift  \n",
       "20   3.424197  \n",
       "154  3.429418  \n",
       "179  1.561808  \n",
       "184  1.667171  \n",
       "327  5.157174  \n",
       "334  5.399836  \n",
       "382  1.577114  \n",
       "443  1.561623  \n",
       "511  5.269756  \n",
       "515  5.368970  \n",
       "520  4.635647  \n",
       "533  1.595173  "
      ]
     },
     "execution_count": 14,
     "metadata": {},
     "output_type": "execute_result"
    }
   ],
   "source": [
    "result_arm"
   ]
  },
  {
   "cell_type": "code",
   "execution_count": 15,
   "id": "4d448d66-dd21-4dff-ad60-1cd58f6a4dc3",
   "metadata": {},
   "outputs": [],
   "source": [
    "# Sort the association rules by 'confidence' and 'lift' in descending order and select the top 7 rules\n",
    "top_k = 7  # Define the number of top rules to select\n",
    "top_k_rules = result_arm.sort_values(by=['confidence', 'lift'], ascending=False).head(top_k)  # Sort and select top 7 rules\n"
   ]
  },
  {
   "cell_type": "code",
   "execution_count": 16,
   "id": "0cc1736a-6fe8-48cb-a3b9-a5d5dd070175",
   "metadata": {},
   "outputs": [
    {
     "data": {
      "text/html": [
       "<div>\n",
       "<style scoped>\n",
       "    .dataframe tbody tr th:only-of-type {\n",
       "        vertical-align: middle;\n",
       "    }\n",
       "\n",
       "    .dataframe tbody tr th {\n",
       "        vertical-align: top;\n",
       "    }\n",
       "\n",
       "    .dataframe thead th {\n",
       "        text-align: right;\n",
       "    }\n",
       "</style>\n",
       "<table border=\"1\" class=\"dataframe\">\n",
       "  <thead>\n",
       "    <tr style=\"text-align: right;\">\n",
       "      <th></th>\n",
       "      <th>antecedents</th>\n",
       "      <th>consequents</th>\n",
       "      <th>support</th>\n",
       "      <th>confidence</th>\n",
       "      <th>lift</th>\n",
       "    </tr>\n",
       "  </thead>\n",
       "  <tbody>\n",
       "    <tr>\n",
       "      <th>334</th>\n",
       "      <td>(Single, 75_or_older, 60)</td>\n",
       "      <td>(Pedestrian)</td>\n",
       "      <td>0.019425</td>\n",
       "      <td>0.832168</td>\n",
       "      <td>5.399836</td>\n",
       "    </tr>\n",
       "    <tr>\n",
       "      <th>515</th>\n",
       "      <td>(Male, Single, 75_or_older, 60)</td>\n",
       "      <td>(Pedestrian)</td>\n",
       "      <td>0.011825</td>\n",
       "      <td>0.827411</td>\n",
       "      <td>5.368970</td>\n",
       "    </tr>\n",
       "    <tr>\n",
       "      <th>511</th>\n",
       "      <td>(Day, 75_or_older, Single, 60)</td>\n",
       "      <td>(Pedestrian)</td>\n",
       "      <td>0.014582</td>\n",
       "      <td>0.812121</td>\n",
       "      <td>5.269756</td>\n",
       "    </tr>\n",
       "    <tr>\n",
       "      <th>327</th>\n",
       "      <td>(Single, 65_to_74, 60)</td>\n",
       "      <td>(Pedestrian)</td>\n",
       "      <td>0.011027</td>\n",
       "      <td>0.794771</td>\n",
       "      <td>5.157174</td>\n",
       "    </tr>\n",
       "    <tr>\n",
       "      <th>154</th>\n",
       "      <td>(Day, 100, 0_to_16)</td>\n",
       "      <td>(Passenger)</td>\n",
       "      <td>0.012569</td>\n",
       "      <td>0.762376</td>\n",
       "      <td>3.429418</td>\n",
       "    </tr>\n",
       "    <tr>\n",
       "      <th>20</th>\n",
       "      <td>(100, 0_to_16)</td>\n",
       "      <td>(Passenger)</td>\n",
       "      <td>0.019080</td>\n",
       "      <td>0.761216</td>\n",
       "      <td>3.424197</td>\n",
       "    </tr>\n",
       "    <tr>\n",
       "      <th>184</th>\n",
       "      <td>(Male, 75_or_older, 100)</td>\n",
       "      <td>(Driver)</td>\n",
       "      <td>0.010900</td>\n",
       "      <td>0.758838</td>\n",
       "      <td>1.667171</td>\n",
       "    </tr>\n",
       "  </tbody>\n",
       "</table>\n",
       "</div>"
      ],
      "text/plain": [
       "                         antecedents   consequents   support  confidence  \\\n",
       "334        (Single, 75_or_older, 60)  (Pedestrian)  0.019425    0.832168   \n",
       "515  (Male, Single, 75_or_older, 60)  (Pedestrian)  0.011825    0.827411   \n",
       "511   (Day, 75_or_older, Single, 60)  (Pedestrian)  0.014582    0.812121   \n",
       "327           (Single, 65_to_74, 60)  (Pedestrian)  0.011027    0.794771   \n",
       "154              (Day, 100, 0_to_16)   (Passenger)  0.012569    0.762376   \n",
       "20                    (100, 0_to_16)   (Passenger)  0.019080    0.761216   \n",
       "184         (Male, 75_or_older, 100)      (Driver)  0.010900    0.758838   \n",
       "\n",
       "         lift  \n",
       "334  5.399836  \n",
       "515  5.368970  \n",
       "511  5.269756  \n",
       "327  5.157174  \n",
       "154  3.429418  \n",
       "20   3.424197  \n",
       "184  1.667171  "
      ]
     },
     "execution_count": 16,
     "metadata": {},
     "output_type": "execute_result"
    }
   ],
   "source": [
    "top_k_rules"
   ]
  },
  {
   "cell_type": "code",
   "execution_count": null,
   "id": "01a6261e-ae46-40f8-8142-14398fa92c11",
   "metadata": {},
   "outputs": [],
   "source": []
  }
 ],
 "metadata": {
  "kernelspec": {
   "display_name": "Python 3 (ipykernel)",
   "language": "python",
   "name": "python3"
  },
  "language_info": {
   "codemirror_mode": {
    "name": "ipython",
    "version": 3
   },
   "file_extension": ".py",
   "mimetype": "text/x-python",
   "name": "python",
   "nbconvert_exporter": "python",
   "pygments_lexer": "ipython3",
   "version": "3.12.4"
  }
 },
 "nbformat": 4,
 "nbformat_minor": 5
}
